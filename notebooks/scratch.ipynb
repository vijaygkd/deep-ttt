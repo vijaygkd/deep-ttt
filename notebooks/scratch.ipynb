{
 "cells": [
  {
   "cell_type": "code",
   "execution_count": 2,
   "id": "0e7982d4-da90-4eba-9582-b4c27266fbc3",
   "metadata": {},
   "outputs": [
    {
     "name": "stdout",
     "output_type": "stream",
     "text": [
      "/Users/vijay/vijaygkd/deep-ttt\n"
     ]
    }
   ],
   "source": [
    "cd .."
   ]
  },
  {
   "cell_type": "code",
   "execution_count": 29,
   "id": "35edf7cc-67bc-46ce-85ed-a4fabfea61f0",
   "metadata": {},
   "outputs": [],
   "source": [
    "import numpy as np\n",
    "import tensorflow as tf\n",
    "from tensorflow.keras import backend as k\n"
   ]
  },
  {
   "cell_type": "code",
   "execution_count": 6,
   "id": "51ec71a4-1afa-4f24-baef-9d6e98d73ed3",
   "metadata": {},
   "outputs": [],
   "source": [
    "#%load_ext autoreload\n",
    "%autoreload 2"
   ]
  },
  {
   "cell_type": "code",
   "execution_count": 4,
   "id": "faa37655-a4c1-4344-9874-5e2edc8cbbc7",
   "metadata": {},
   "outputs": [],
   "source": [
    "from dqn.environment import *\n",
    "from dqn.agent import RandomAgent, QAgent\n",
    "from dqn.model import DQN\n",
    "from dqn.train import Memory, QLearning\n"
   ]
  },
  {
   "cell_type": "code",
   "execution_count": 411,
   "id": "ab2e1ffa-a38e-4626-96e7-1860c4865fc0",
   "metadata": {},
   "outputs": [
    {
     "name": "stdout",
     "output_type": "stream",
     "text": [
      "hey3\n"
     ]
    }
   ],
   "source": [
    "t = QLearning()"
   ]
  },
  {
   "cell_type": "code",
   "execution_count": 412,
   "id": "04afe387-9d55-4995-8544-01f1345b7028",
   "metadata": {},
   "outputs": [
    {
     "name": "stdout",
     "output_type": "stream",
     "text": [
      "Model: \"model_22\"\n",
      "__________________________________________________________________________________________________\n",
      " Layer (type)                   Output Shape         Param #     Connected to                     \n",
      "==================================================================================================\n",
      " input_states (InputLayer)      [(None, 9)]          0           []                               \n",
      "                                                                                                  \n",
      " hidden_1 (Dense)               (None, 64)           640         ['input_states[0][0]']           \n",
      "                                                                                                  \n",
      " hidden_2 (Dense)               (None, 32)           2080        ['hidden_1[0][0]']               \n",
      "                                                                                                  \n",
      " output (Dense)                 (None, 9)            297         ['hidden_2[0][0]']               \n",
      "                                                                                                  \n",
      " input_actions (InputLayer)     [(None, 1)]          0           []                               \n",
      "                                                                                                  \n",
      " final_layer (QOutputLayer)     [(None,),            0           ['output[0][0]',                 \n",
      "                                 (None,)]                         'input_actions[0][0]']          \n",
      "                                                                                                  \n",
      "==================================================================================================\n",
      "Total params: 3,017\n",
      "Trainable params: 3,017\n",
      "Non-trainable params: 0\n",
      "__________________________________________________________________________________________________\n"
     ]
    }
   ],
   "source": [
    "t.net.model.summary()"
   ]
  },
  {
   "cell_type": "code",
   "execution_count": 413,
   "id": "85807bcf-98c2-4d1b-88cd-2faf520fc872",
   "metadata": {
    "tags": []
   },
   "outputs": [
    {
     "name": "stderr",
     "output_type": "stream",
     "text": [
      "100%|██████████████████████████████████████████████████████████████████████████| 5/5 [00:00<00:00, 250.56it/s]\n"
     ]
    },
    {
     "name": "stdout",
     "output_type": "stream",
     "text": [
      "INFO:tensorflow:Assets written to: dqn_net/assets\n"
     ]
    }
   ],
   "source": [
    "t.train(episodes=5)"
   ]
  },
  {
   "cell_type": "code",
   "execution_count": 414,
   "id": "10fd5df7-7ed6-40b0-850a-b3d1dc0a44a8",
   "metadata": {},
   "outputs": [],
   "source": [
    "old_wts = t.net.model.layers[3].get_weights().copy()"
   ]
  },
  {
   "cell_type": "code",
   "execution_count": 419,
   "id": "5dfb34a0-ed99-4cbe-a01c-187c6bb48911",
   "metadata": {},
   "outputs": [
    {
     "name": "stdout",
     "output_type": "stream",
     "text": [
      "[[ 0. -1.  0.  0.  0.  0.  0.  1.  1.]\n",
      " [ 0.  0.  0.  0.  0.  1.  1.  0. -1.]\n",
      " [ 1.  0.  0.  1.  0.  0.  0. -1.  0.]\n",
      " [ 0. -1.  0. -1.  0.  1.  0.  1.  1.]\n",
      " [ 0. -1.  0. -1.  0.  1. -1.  1.  1.]\n",
      " [ 0.  0. -1.  0.  0.  0.  0.  1.  0.]\n",
      " [ 0.  0.  0.  0. -1.  1.  1.  1. -1.]\n",
      " [ 0.  0.  0.  0.  0.  0.  0.  0.  0.]\n",
      " [ 1.  1. -1.  1. -1.  1.  0. -1. -1.]\n",
      " [ 1.  0. -1.  1. -1.  1.  0. -1.  0.]\n",
      " [ 0. -1.  0.  0.  0.  0.  0.  1.  1.]\n",
      " [ 1.  0. -1.  1. -1.  1.  0. -1.  0.]\n",
      " [ 0.  0.  0.  0.  0.  0.  0.  1.  0.]\n",
      " [ 1.  0.  0.  1.  0.  0. -1. -1.  0.]\n",
      " [ 0. -1.  0.  1. -1.  1.  1.  1. -1.]\n",
      " [ 0. -1.  0. -1.  0.  1.  0.  1.  1.]\n",
      " [ 0.  0.  0.  0. -1.  1.  1.  0. -1.]\n",
      " [ 0.  1. -1. -1.  0.  1.  0.  1.  0.]\n",
      " [ 1.  1. -1.  1. -1.  1.  0. -1. -1.]\n",
      " [ 0.  0.  0.  0.  0.  0.  0.  0.  0.]\n",
      " [ 0. -1.  0.  1. -1.  1.  1.  1. -1.]\n",
      " [ 0. -1.  0.  1. -1.  1.  1.  1. -1.]\n",
      " [ 0.  1. -1. -1.  0.  1.  0.  1.  0.]\n",
      " [ 1.  1. -1.  1. -1.  1.  0. -1.  0.]\n",
      " [ 0.  1. -1. -1.  0.  1.  0.  1.  0.]\n",
      " [ 0.  0. -1. -1.  0.  1.  0.  1.  0.]\n",
      " [ 1. -1. -1. -1.  0.  1. -1.  1.  1.]\n",
      " [ 0.  0.  0.  0.  0.  0.  1.  0. -1.]\n",
      " [ 0.  0.  0.  0. -1.  1.  1.  1. -1.]\n",
      " [ 1. -1.  0. -1.  0.  1. -1.  1.  1.]\n",
      " [ 1. -1.  0. -1.  0.  1. -1.  1.  1.]\n",
      " [ 0.  0.  0.  0. -1.  1.  1.  0. -1.]]\n",
      "[3. 4. 6. 6. 0. 5. 1. 6. 6. 1. 3. 1. 1. 4. 2. 6. 7. 0. 6. 3. 2. 2. 0. 8.\n",
      " 0. 1. 4. 5. 1. 2. 2. 7.]\n",
      "[-1.  -0.1 -0.1 -1.  -0.1 -0.1 -0.1 -0.1  0.5 -1.  -1.  -1.  -0.1 -1.\n",
      " -1.  -1.  -1.  -1.   0.5 -0.1 -1.  -1.  -1.  -1.  -1.  -0.1  0.5 -0.1\n",
      " -0.1 -1.  -1.  -1. ]\n",
      "[0. 0. 0. 0. 0. 0. 0. 0. 1. 0. 0. 0. 0. 0. 0. 0. 0. 0. 1. 0. 0. 0. 0. 0.\n",
      " 0. 0. 1. 0. 0. 0. 0. 0.]\n",
      "[0 1 0 0 0 5 5 1 1 0 0 0 5 7 5 0 5 5 1 0 5 5 5 0 5 5 0 5 5 0 0 5]\n",
      "[0.30292678 0.1806136  0.3750759  0.31834614 0.36435995 0.29116878\n",
      " 0.35172322 0.03775089 0.23635839 0.25810835 0.30292678 0.25810835\n",
      " 0.22543289 0.10797555 0.3629649  0.31834614 0.37502852 0.26655713\n",
      " 0.23635839 0.21337551 0.3629649  0.3629649  0.26655713 0.34588307\n",
      " 0.26655713 0.28135505 0.25193012 0.18739343 0.35172322 0.2840316\n",
      " 0.28403166 0.3750285 ]\n",
      "[-0.96970732 -0.08193864 -0.06249241 -0.96816539 -0.063564   -0.07088312\n",
      " -0.06482768 -0.09622491  0.5        -0.97418916 -0.96970732 -0.97418916\n",
      " -0.07745671 -0.98920244 -0.96370351 -0.96816539 -0.96249715 -0.97334429\n",
      "  0.5        -0.07866245 -0.96370351 -0.96370351 -0.97334429 -0.96541169\n",
      " -0.97334429 -0.07186449  0.5        -0.08126066 -0.06482768 -0.97159684\n",
      " -0.97159683 -0.96249715]\n"
     ]
    }
   ],
   "source": [
    "t.do_gradient_update(32)"
   ]
  },
  {
   "cell_type": "code",
   "execution_count": 402,
   "id": "77778bf7-600b-4aae-9e70-e7b662cf530b",
   "metadata": {},
   "outputs": [],
   "source": [
    "new_wts = t.net.model.layers[3].get_weights().copy()"
   ]
  },
  {
   "cell_type": "code",
   "execution_count": 416,
   "id": "c3c67ef3-376e-4bac-9d51-7319a84610ca",
   "metadata": {},
   "outputs": [
    {
     "data": {
      "text/plain": [
       "-0.079027154"
      ]
     },
     "execution_count": 416,
     "metadata": {},
     "output_type": "execute_result"
    }
   ],
   "source": [
    "0.020972846 - 0.1"
   ]
  },
  {
   "cell_type": "code",
   "execution_count": 403,
   "id": "09867cc5-1d5d-4259-89f5-de6269271b1a",
   "metadata": {
    "tags": []
   },
   "outputs": [
    {
     "data": {
      "text/plain": [
       "False"
      ]
     },
     "execution_count": 403,
     "metadata": {},
     "output_type": "execute_result"
    }
   ],
   "source": [
    "np.array_equal(old_wts[0], new_wts[0])"
   ]
  },
  {
   "cell_type": "code",
   "execution_count": 404,
   "id": "d975e3fc-daa8-44c5-bf84-599c5bb8ffdb",
   "metadata": {},
   "outputs": [
    {
     "data": {
      "text/plain": [
       "array([[0.00029984, 0.        , 0.        , 0.        , 0.        ,\n",
       "        0.        , 0.        , 0.        , 0.        ],\n",
       "       [0.00029993, 0.        , 0.        , 0.        , 0.        ,\n",
       "        0.        , 0.        , 0.        , 0.        ],\n",
       "       [0.00029996, 0.        , 0.        , 0.        , 0.        ,\n",
       "        0.        , 0.        , 0.        , 0.        ],\n",
       "       [0.00029975, 0.        , 0.        , 0.        , 0.        ,\n",
       "        0.        , 0.        , 0.        , 0.        ],\n",
       "       [0.        , 0.        , 0.        , 0.        , 0.        ,\n",
       "        0.        , 0.        , 0.        , 0.        ],\n",
       "       [0.        , 0.        , 0.        , 0.        , 0.        ,\n",
       "        0.        , 0.        , 0.        , 0.        ],\n",
       "       [0.00029996, 0.        , 0.        , 0.        , 0.        ,\n",
       "        0.        , 0.        , 0.        , 0.        ],\n",
       "       [0.        , 0.        , 0.        , 0.        , 0.        ,\n",
       "        0.        , 0.        , 0.        , 0.        ],\n",
       "       [0.00029978, 0.        , 0.        , 0.        , 0.        ,\n",
       "        0.        , 0.        , 0.        , 0.        ],\n",
       "       [0.        , 0.        , 0.        , 0.        , 0.        ,\n",
       "        0.        , 0.        , 0.        , 0.        ],\n",
       "       [0.0002998 , 0.        , 0.        , 0.        , 0.        ,\n",
       "        0.        , 0.        , 0.        , 0.        ],\n",
       "       [0.0002999 , 0.        , 0.        , 0.        , 0.        ,\n",
       "        0.        , 0.        , 0.        , 0.        ],\n",
       "       [0.00029989, 0.        , 0.        , 0.        , 0.        ,\n",
       "        0.        , 0.        , 0.        , 0.        ],\n",
       "       [0.00029995, 0.        , 0.        , 0.        , 0.        ,\n",
       "        0.        , 0.        , 0.        , 0.        ],\n",
       "       [0.        , 0.        , 0.        , 0.        , 0.        ,\n",
       "        0.        , 0.        , 0.        , 0.        ],\n",
       "       [0.        , 0.        , 0.        , 0.        , 0.        ,\n",
       "        0.        , 0.        , 0.        , 0.        ],\n",
       "       [0.00029996, 0.        , 0.        , 0.        , 0.        ,\n",
       "        0.        , 0.        , 0.        , 0.        ],\n",
       "       [0.        , 0.        , 0.        , 0.        , 0.        ,\n",
       "        0.        , 0.        , 0.        , 0.        ],\n",
       "       [0.        , 0.        , 0.        , 0.        , 0.        ,\n",
       "        0.        , 0.        , 0.        , 0.        ],\n",
       "       [0.        , 0.        , 0.        , 0.        , 0.        ,\n",
       "        0.        , 0.        , 0.        , 0.        ],\n",
       "       [0.        , 0.        , 0.        , 0.        , 0.        ,\n",
       "        0.        , 0.        , 0.        , 0.        ],\n",
       "       [0.00029993, 0.        , 0.        , 0.        , 0.        ,\n",
       "        0.        , 0.        , 0.        , 0.        ],\n",
       "       [0.00029996, 0.        , 0.        , 0.        , 0.        ,\n",
       "        0.        , 0.        , 0.        , 0.        ],\n",
       "       [0.00029901, 0.        , 0.        , 0.        , 0.        ,\n",
       "        0.        , 0.        , 0.        , 0.        ],\n",
       "       [0.00029995, 0.        , 0.        , 0.        , 0.        ,\n",
       "        0.        , 0.        , 0.        , 0.        ],\n",
       "       [0.        , 0.        , 0.        , 0.        , 0.        ,\n",
       "        0.        , 0.        , 0.        , 0.        ],\n",
       "       [0.00029978, 0.        , 0.        , 0.        , 0.        ,\n",
       "        0.        , 0.        , 0.        , 0.        ],\n",
       "       [0.00029971, 0.        , 0.        , 0.        , 0.        ,\n",
       "        0.        , 0.        , 0.        , 0.        ],\n",
       "       [0.        , 0.        , 0.        , 0.        , 0.        ,\n",
       "        0.        , 0.        , 0.        , 0.        ],\n",
       "       [0.        , 0.        , 0.        , 0.        , 0.        ,\n",
       "        0.        , 0.        , 0.        , 0.        ],\n",
       "       [0.00029992, 0.        , 0.        , 0.        , 0.        ,\n",
       "        0.        , 0.        , 0.        , 0.        ],\n",
       "       [0.00029992, 0.        , 0.        , 0.        , 0.        ,\n",
       "        0.        , 0.        , 0.        , 0.        ]], dtype=float32)"
      ]
     },
     "execution_count": 404,
     "metadata": {},
     "output_type": "execute_result"
    }
   ],
   "source": [
    "(old_wts[0] - new_wts[0])#[:,0]"
   ]
  },
  {
   "cell_type": "code",
   "execution_count": 405,
   "id": "0f3ebdcd-4b86-4c11-a2cb-6f71871ef4c6",
   "metadata": {},
   "outputs": [
    {
     "data": {
      "text/plain": [
       "array([0., 0., 0., 0., 0., 0., 0., 0., 0.], dtype=float32)"
      ]
     },
     "execution_count": 405,
     "metadata": {},
     "output_type": "execute_result"
    }
   ],
   "source": [
    "old_wts[1]"
   ]
  },
  {
   "cell_type": "code",
   "execution_count": 406,
   "id": "ad27a8e8-bd8f-4abf-99c6-cf349086944d",
   "metadata": {},
   "outputs": [
    {
     "data": {
      "text/plain": [
       "array([-0.00029999,  0.        ,  0.        ,  0.        ,  0.        ,\n",
       "        0.        ,  0.        ,  0.        ,  0.        ], dtype=float32)"
      ]
     },
     "execution_count": 406,
     "metadata": {},
     "output_type": "execute_result"
    }
   ],
   "source": [
    "new_wts[1]"
   ]
  },
  {
   "cell_type": "code",
   "execution_count": null,
   "id": "9ec3426c-056b-49e3-af03-e70de0feb92c",
   "metadata": {},
   "outputs": [],
   "source": []
  },
  {
   "cell_type": "code",
   "execution_count": null,
   "id": "826e31b8-2e44-415d-a412-b32384254b3a",
   "metadata": {},
   "outputs": [],
   "source": []
  },
  {
   "cell_type": "code",
   "execution_count": 410,
   "id": "9ef99042-00d0-44e0-a56a-1853bd162ebd",
   "metadata": {},
   "outputs": [
    {
     "data": {
      "text/plain": [
       "array([1., 1., 1., 1., 1.])"
      ]
     },
     "execution_count": 410,
     "metadata": {},
     "output_type": "execute_result"
    }
   ],
   "source": [
    "1 - board_samples[4]"
   ]
  },
  {
   "cell_type": "code",
   "execution_count": null,
   "id": "0dc5b768-99e0-4ccc-922e-e0be424ce620",
   "metadata": {},
   "outputs": [],
   "source": []
  },
  {
   "cell_type": "code",
   "execution_count": 252,
   "id": "51e6b8ae-3377-447a-a31b-0006d0e34c6a",
   "metadata": {},
   "outputs": [],
   "source": [
    "board_samples = t.memory.sample_records(5)"
   ]
  },
  {
   "cell_type": "code",
   "execution_count": 253,
   "id": "60e0087b-7bf7-4e3e-8ce7-ca14e7e5eeaf",
   "metadata": {},
   "outputs": [
    {
     "data": {
      "text/plain": [
       "(5, 9)"
      ]
     },
     "execution_count": 253,
     "metadata": {},
     "output_type": "execute_result"
    }
   ],
   "source": [
    "board_samples[0].shape"
   ]
  },
  {
   "cell_type": "code",
   "execution_count": 254,
   "id": "d8594078-88aa-4424-93a1-915e42458105",
   "metadata": {},
   "outputs": [
    {
     "data": {
      "text/plain": [
       "[array([[ 0.,  1., -1., -1.,  1.,  1., -1.,  0.,  0.],\n",
       "        [-1.,  0.,  0.,  0.,  0.,  0.,  0.,  0.,  1.],\n",
       "        [ 1.,  0.,  0.,  0.,  0.,  0.,  0.,  0.,  0.],\n",
       "        [ 1.,  1., -1.,  0., -1., -1.,  1.,  1.,  0.],\n",
       "        [-1.,  1.,  0.,  0.,  0.,  0.,  1.,  0.,  0.]]),\n",
       " array([8., 1., 3., 8., 2.]),\n",
       " array([-1. , -0.1, -0.1, -1. , -0.1]),\n",
       " array([[ 0.,  1., -1., -1.,  1.,  1., -1.,  0.,  1.],\n",
       "        [-1.,  1.,  0.,  0.,  0.,  0.,  0.,  0.,  1.],\n",
       "        [ 1.,  0.,  0., -1.,  0.,  0.,  0.,  0.,  0.],\n",
       "        [ 1.,  1., -1.,  0., -1., -1.,  1.,  1., -1.],\n",
       "        [-1.,  1., -1.,  0.,  0.,  0.,  1.,  0.,  0.]]),\n",
       " array([0., 0., 0., 0., 0.])]"
      ]
     },
     "execution_count": 254,
     "metadata": {},
     "output_type": "execute_result"
    }
   ],
   "source": [
    "board_samples"
   ]
  },
  {
   "cell_type": "code",
   "execution_count": 255,
   "id": "af90eb56-51c6-448e-a479-fbe84098ec20",
   "metadata": {},
   "outputs": [
    {
     "data": {
      "text/plain": [
       "[<tf.Tensor: shape=(5, 1), dtype=int32, numpy=\n",
       " array([[8],\n",
       "        [1],\n",
       "        [3],\n",
       "        [8],\n",
       "        [2]], dtype=int32)>,\n",
       " <tf.Tensor: shape=(5, 1), dtype=float32, numpy=\n",
       " array([[-0.15436232],\n",
       "        [-0.06692867],\n",
       "        [ 0.03474152],\n",
       "        [-0.53856516],\n",
       "        [-0.20140201]], dtype=float32)>]"
      ]
     },
     "execution_count": 255,
     "metadata": {},
     "output_type": "execute_result"
    }
   ],
   "source": [
    "ans1 = t.net.model([board_samples[0], board_samples[1]], training=True)\n",
    "ans1"
   ]
  },
  {
   "cell_type": "code",
   "execution_count": 256,
   "id": "3b5a35ab-34fc-4558-a67f-0d61e89114fb",
   "metadata": {},
   "outputs": [
    {
     "name": "stdout",
     "output_type": "stream",
     "text": [
      "1/1 [==============================] - 0s 15ms/step\n"
     ]
    },
    {
     "data": {
      "text/plain": [
       "[array([6, 6, 6, 6, 6]),\n",
       " array([0.2774571 , 0.19662073, 0.23035435, 0.70684135, 0.45960778],\n",
       "       dtype=float32)]"
      ]
     },
     "execution_count": 256,
     "metadata": {},
     "output_type": "execute_result"
    }
   ],
   "source": [
    "ans = t.net.model.predict([board_samples[0], board_samples[1]])\n",
    "ans"
   ]
  },
  {
   "cell_type": "code",
   "execution_count": 257,
   "id": "fa68a906-bef8-4ea7-8055-f8776709d4cb",
   "metadata": {},
   "outputs": [
    {
     "data": {
      "text/plain": [
       "(5, 1)"
      ]
     },
     "execution_count": 257,
     "metadata": {},
     "output_type": "execute_result"
    }
   ],
   "source": [
    "ans1[0].numpy().shape"
   ]
  },
  {
   "cell_type": "code",
   "execution_count": 246,
   "id": "fa72d144-56e5-460d-8514-9686398c3f5e",
   "metadata": {},
   "outputs": [
    {
     "data": {
      "text/plain": [
       "(5,)"
      ]
     },
     "execution_count": 246,
     "metadata": {},
     "output_type": "execute_result"
    }
   ],
   "source": [
    "ans[0].shape"
   ]
  },
  {
   "cell_type": "code",
   "execution_count": null,
   "id": "bca3869c-e1e7-449e-8479-8c9157f06c7d",
   "metadata": {},
   "outputs": [],
   "source": []
  }
 ],
 "metadata": {
  "kernelspec": {
   "display_name": "Python 3 (ipykernel)",
   "language": "python",
   "name": "python3"
  },
  "language_info": {
   "codemirror_mode": {
    "name": "ipython",
    "version": 3
   },
   "file_extension": ".py",
   "mimetype": "text/x-python",
   "name": "python",
   "nbconvert_exporter": "python",
   "pygments_lexer": "ipython3",
   "version": "3.9.10"
  }
 },
 "nbformat": 4,
 "nbformat_minor": 5
}
