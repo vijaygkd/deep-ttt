{
 "cells": [
  {
   "cell_type": "code",
   "execution_count": 1,
   "id": "0e7982d4-da90-4eba-9582-b4c27266fbc3",
   "metadata": {},
   "outputs": [
    {
     "name": "stdout",
     "output_type": "stream",
     "text": [
      "/Users/vijay/vijaygkd/deep-ttt\n"
     ]
    }
   ],
   "source": [
    "cd .."
   ]
  },
  {
   "cell_type": "code",
   "execution_count": 2,
   "id": "35edf7cc-67bc-46ce-85ed-a4fabfea61f0",
   "metadata": {},
   "outputs": [],
   "source": [
    "import numpy as np"
   ]
  },
  {
   "cell_type": "code",
   "execution_count": 81,
   "id": "51ec71a4-1afa-4f24-baef-9d6e98d73ed3",
   "metadata": {},
   "outputs": [],
   "source": [
    "#%load_ext autoreload\n",
    "%autoreload 2"
   ]
  },
  {
   "cell_type": "code",
   "execution_count": 78,
   "id": "faa37655-a4c1-4344-9874-5e2edc8cbbc7",
   "metadata": {},
   "outputs": [],
   "source": [
    "from dqn.environmet import TicTacToe"
   ]
  },
  {
   "cell_type": "code",
   "execution_count": 79,
   "id": "210affbd-ae1e-42d9-85a7-0da504fc29fa",
   "metadata": {},
   "outputs": [],
   "source": [
    "ttt = TicTacToe()"
   ]
  },
  {
   "cell_type": "markdown",
   "id": "81dc4b5b-591a-486a-a87a-aa594bcba8a6",
   "metadata": {},
   "source": [
    "0 1 2\n",
    "\n",
    "3 4 5\n",
    "\n",
    "6 7 8"
   ]
  },
  {
   "cell_type": "code",
   "execution_count": null,
   "id": "7f12a10b-3a1f-4e50-a34e-9ba7be685110",
   "metadata": {},
   "outputs": [],
   "source": [
    "ttt.p"
   ]
  },
  {
   "cell_type": "code",
   "execution_count": 64,
   "id": "e1344f31-3e0a-4982-864f-42f01a2f690d",
   "metadata": {},
   "outputs": [
    {
     "data": {
      "text/plain": [
       "array([0., 0., 0., 0., 0., 0., 0., 0., 0.])"
      ]
     },
     "execution_count": 64,
     "metadata": {},
     "output_type": "execute_result"
    }
   ],
   "source": [
    "ttt.get_current_state()"
   ]
  },
  {
   "cell_type": "code",
   "execution_count": 65,
   "id": "011b1267-1970-47ad-8d1b-ea4739bae788",
   "metadata": {},
   "outputs": [
    {
     "data": {
      "text/plain": [
       "(-0.1, 0, array([0., 0., 0., 0., 1., 0., 0., 0., 0.]))"
      ]
     },
     "execution_count": 65,
     "metadata": {},
     "output_type": "execute_result"
    }
   ],
   "source": [
    "ttt.execute_action(4)"
   ]
  },
  {
   "cell_type": "code",
   "execution_count": 66,
   "id": "25332403-d7aa-4c3d-8f91-b1238282b5a0",
   "metadata": {},
   "outputs": [
    {
     "data": {
      "text/plain": [
       "(-0.1, 0, array([ 0.,  0.,  0.,  0.,  1.,  0., -1.,  0.,  0.]))"
      ]
     },
     "execution_count": 66,
     "metadata": {},
     "output_type": "execute_result"
    }
   ],
   "source": [
    "ttt.execute_action(6)"
   ]
  },
  {
   "cell_type": "code",
   "execution_count": 67,
   "id": "f0832ccd-16df-4bd6-baa5-480df1788174",
   "metadata": {},
   "outputs": [
    {
     "data": {
      "text/plain": [
       "(-0.1, 0, array([ 0.,  0.,  1.,  0.,  1.,  0., -1.,  0.,  0.]))"
      ]
     },
     "execution_count": 67,
     "metadata": {},
     "output_type": "execute_result"
    }
   ],
   "source": [
    "ttt.execute_action(2)"
   ]
  },
  {
   "cell_type": "code",
   "execution_count": 68,
   "id": "3d5182e2-2bbe-4bb9-b8fc-d042e1195c45",
   "metadata": {},
   "outputs": [
    {
     "data": {
      "text/plain": [
       "(-0.1, 0, array([ 0.,  0.,  1., -1.,  1.,  0., -1.,  0.,  0.]))"
      ]
     },
     "execution_count": 68,
     "metadata": {},
     "output_type": "execute_result"
    }
   ],
   "source": [
    "ttt.execute_action(3)"
   ]
  },
  {
   "cell_type": "code",
   "execution_count": 69,
   "id": "9ecf0a1a-4729-4981-b1bd-752e31b4f248",
   "metadata": {},
   "outputs": [
    {
     "data": {
      "text/plain": [
       "(-0.1, 0, array([ 1.,  0.,  1., -1.,  1.,  0., -1.,  0.,  0.]))"
      ]
     },
     "execution_count": 69,
     "metadata": {},
     "output_type": "execute_result"
    }
   ],
   "source": [
    "ttt.execute_action(0)"
   ]
  },
  {
   "cell_type": "code",
   "execution_count": 70,
   "id": "b55c4c14-1fd4-4f5d-aa69-615560b11ff5",
   "metadata": {},
   "outputs": [
    {
     "data": {
      "text/plain": [
       "(-5, 0, array([ 1.,  0.,  1., -1.,  1.,  0., -1.,  0.,  0.]))"
      ]
     },
     "execution_count": 70,
     "metadata": {},
     "output_type": "execute_result"
    }
   ],
   "source": [
    "ttt.execute_action(3)"
   ]
  },
  {
   "cell_type": "code",
   "execution_count": 71,
   "id": "5a80061b-52b1-4769-b9d9-217413c4b012",
   "metadata": {},
   "outputs": [
    {
     "data": {
      "text/plain": [
       "(-0.1, 0, array([ 1., -1.,  1., -1.,  1.,  0., -1.,  0.,  0.]))"
      ]
     },
     "execution_count": 71,
     "metadata": {},
     "output_type": "execute_result"
    }
   ],
   "source": [
    "ttt.execute_action(1)"
   ]
  },
  {
   "cell_type": "code",
   "execution_count": 72,
   "id": "a39eafa1-9390-41e1-b8f8-bf7c7ee40867",
   "metadata": {},
   "outputs": [
    {
     "data": {
      "text/plain": [
       "(1, 1, array([ 1., -1.,  1., -1.,  1.,  0., -1.,  0.,  1.]))"
      ]
     },
     "execution_count": 72,
     "metadata": {},
     "output_type": "execute_result"
    }
   ],
   "source": [
    "ttt.execute_action(8)"
   ]
  },
  {
   "cell_type": "code",
   "execution_count": 73,
   "id": "1cf13fff-488c-48fa-93f9-7bff3ae84222",
   "metadata": {},
   "outputs": [
    {
     "data": {
      "text/plain": [
       "1"
      ]
     },
     "execution_count": 73,
     "metadata": {},
     "output_type": "execute_result"
    }
   ],
   "source": [
    "ttt.game_over"
   ]
  },
  {
   "cell_type": "code",
   "execution_count": 74,
   "id": "8039638b-587f-44e7-8d89-a9035d146198",
   "metadata": {},
   "outputs": [
    {
     "name": "stdout",
     "output_type": "stream",
     "text": [
      "X O X \n",
      "\n",
      "O X - \n",
      "\n",
      "O - X \n",
      "\n"
     ]
    }
   ],
   "source": [
    "m = {\n",
    "    1: 'X',\n",
    "    -1: 'O',\n",
    "    0: '-'\n",
    "}\n",
    "\n",
    "for i in range(3):\n",
    "    s = ''\n",
    "    for j in range(3):\n",
    "        c = m[ttt.board[i*3+j]]\n",
    "        s += c + ' '\n",
    "    print(f'{s}\\n')"
   ]
  },
  {
   "cell_type": "code",
   "execution_count": 75,
   "id": "549c102d-0442-4794-9bf9-be1bcc2a5471",
   "metadata": {},
   "outputs": [
    {
     "data": {
      "text/plain": [
       "[-1.0, 1.0, -1.0]"
      ]
     },
     "execution_count": 75,
     "metadata": {},
     "output_type": "execute_result"
    }
   ],
   "source": [
    "    ttt.board[[1,2,3]].tolist()"
   ]
  },
  {
   "cell_type": "code",
   "execution_count": 76,
   "id": "0c8bd95f-7341-42e6-9de3-f829cadb962d",
   "metadata": {},
   "outputs": [
    {
     "data": {
      "text/plain": [
       "-1"
      ]
     },
     "execution_count": 76,
     "metadata": {},
     "output_type": "execute_result"
    }
   ],
   "source": [
    "ttt.current_player"
   ]
  },
  {
   "cell_type": "raw",
   "id": "b2ae83ca-ccd9-4f8f-a33f-40341363961b",
   "metadata": {},
   "source": [
    "ttt.print_board()"
   ]
  },
  {
   "cell_type": "code",
   "execution_count": 77,
   "id": "a0e82222-c4eb-493b-b16c-4a6a0f4d131a",
   "metadata": {},
   "outputs": [
    {
     "ename": "AttributeError",
     "evalue": "'TicTacToe' object has no attribute 'print_board'",
     "output_type": "error",
     "traceback": [
      "\u001b[0;31m---------------------------------------------------------------------------\u001b[0m",
      "\u001b[0;31mAttributeError\u001b[0m                            Traceback (most recent call last)",
      "Input \u001b[0;32mIn [77]\u001b[0m, in \u001b[0;36m<cell line: 1>\u001b[0;34m()\u001b[0m\n\u001b[0;32m----> 1\u001b[0m \u001b[43mttt\u001b[49m\u001b[38;5;241;43m.\u001b[39;49m\u001b[43mprint_board\u001b[49m()\n",
      "\u001b[0;31mAttributeError\u001b[0m: 'TicTacToe' object has no attribute 'print_board'"
     ]
    }
   ],
   "source": [
    "ttt.print_board()"
   ]
  },
  {
   "cell_type": "code",
   "execution_count": null,
   "id": "5a6fdb8e-37f2-4e17-a5b4-764547682633",
   "metadata": {},
   "outputs": [],
   "source": []
  }
 ],
 "metadata": {
  "kernelspec": {
   "display_name": "Python 3 (ipykernel)",
   "language": "python",
   "name": "python3"
  },
  "language_info": {
   "codemirror_mode": {
    "name": "ipython",
    "version": 3
   },
   "file_extension": ".py",
   "mimetype": "text/x-python",
   "name": "python",
   "nbconvert_exporter": "python",
   "pygments_lexer": "ipython3",
   "version": "3.9.10"
  }
 },
 "nbformat": 4,
 "nbformat_minor": 5
}
