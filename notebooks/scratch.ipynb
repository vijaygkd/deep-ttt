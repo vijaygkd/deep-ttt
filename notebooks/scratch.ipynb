{
 "cells": [
  {
   "cell_type": "code",
   "execution_count": 2,
   "id": "0e7982d4-da90-4eba-9582-b4c27266fbc3",
   "metadata": {},
   "outputs": [
    {
     "name": "stdout",
     "output_type": "stream",
     "text": [
      "/Users/vijay/vijaygkd/deep-ttt\n"
     ]
    }
   ],
   "source": [
    "cd .."
   ]
  },
  {
   "cell_type": "code",
   "execution_count": 438,
   "id": "35edf7cc-67bc-46ce-85ed-a4fabfea61f0",
   "metadata": {},
   "outputs": [],
   "source": [
    "import numpy as np\n",
    "import tensorflow as tf\n",
    "from tensorflow.keras import backend as k\n",
    "import mlflow"
   ]
  },
  {
   "cell_type": "code",
   "execution_count": 6,
   "id": "51ec71a4-1afa-4f24-baef-9d6e98d73ed3",
   "metadata": {},
   "outputs": [],
   "source": [
    "#%load_ext autoreload\n",
    "%autoreload 2"
   ]
  },
  {
   "cell_type": "code",
   "execution_count": 1617,
   "id": "faa37655-a4c1-4344-9874-5e2edc8cbbc7",
   "metadata": {},
   "outputs": [],
   "source": [
    "from dqn.environment import *\n",
    "from dqn.agent import RandomAgent, QAgent\n",
    "from dqn.model import DQN\n",
    "from dqn.train import Memory, QLearning, play_games_against_random, play_games_against_other_agent\n",
    "from dqn.minmax import MinMaxAgent"
   ]
  },
  {
   "cell_type": "code",
   "execution_count": 1642,
   "id": "ab2e1ffa-a38e-4626-96e7-1860c4865fc0",
   "metadata": {},
   "outputs": [
    {
     "name": "stderr",
     "output_type": "stream",
     "text": [
      "[autoreload of dqn.train failed: Traceback (most recent call last):\n",
      "  File \"/Users/vijay/.local/share/virtualenvs/deep-ttt-_cETEJsv/lib/python3.9/site-packages/IPython/extensions/autoreload.py\", line 257, in check\n",
      "    superreload(m, reload, self.old_objects)\n",
      "  File \"/Users/vijay/.local/share/virtualenvs/deep-ttt-_cETEJsv/lib/python3.9/site-packages/IPython/extensions/autoreload.py\", line 455, in superreload\n",
      "    module = reload(module)\n",
      "  File \"/Users/vijay/.pyenv/versions/3.9.10/lib/python3.9/importlib/__init__.py\", line 169, in reload\n",
      "    _bootstrap._exec(spec, module)\n",
      "  File \"<frozen importlib._bootstrap>\", line 613, in _exec\n",
      "  File \"<frozen importlib._bootstrap_external>\", line 846, in exec_module\n",
      "  File \"<frozen importlib._bootstrap_external>\", line 983, in get_code\n",
      "  File \"<frozen importlib._bootstrap_external>\", line 913, in source_to_code\n",
      "  File \"<frozen importlib._bootstrap>\", line 228, in _call_with_frames_removed\n",
      "  File \"/Users/vijay/vijaygkd/deep-ttt/dqn/train.py\", line 298\n",
      "    \n",
      "    ^\n",
      "IndentationError: expected an indented block\n",
      "]\n"
     ]
    },
    {
     "name": "stdout",
     "output_type": "stream",
     "text": [
      "hey-14\n"
     ]
    }
   ],
   "source": [
    "t = QLearning()"
   ]
  },
  {
   "cell_type": "code",
   "execution_count": 1643,
   "id": "04afe387-9d55-4995-8544-01f1345b7028",
   "metadata": {},
   "outputs": [
    {
     "name": "stdout",
     "output_type": "stream",
     "text": [
      "Model: \"model_68\"\n",
      "_________________________________________________________________\n",
      " Layer (type)                Output Shape              Param #   \n",
      "=================================================================\n",
      " input_states (InputLayer)   [(None, 9)]               0         \n",
      "                                                                 \n",
      " hidden_1 (Dense)            (None, 128)               1280      \n",
      "                                                                 \n",
      " hidden_2 (Dense)            (None, 64)                8256      \n",
      "                                                                 \n",
      " output (Dense)              (None, 9)                 585       \n",
      "                                                                 \n",
      "=================================================================\n",
      "Total params: 10,121\n",
      "Trainable params: 10,121\n",
      "Non-trainable params: 0\n",
      "_________________________________________________________________\n"
     ]
    }
   ],
   "source": [
    "t.net.model.summary()"
   ]
  },
  {
   "cell_type": "code",
   "execution_count": null,
   "id": "102f643a-3da5-44b1-be18-1dc10db98a2f",
   "metadata": {
    "tags": []
   },
   "outputs": [],
   "source": [
    "with mlflow.start_run(run_name='run 14 - train with minmax', description='') as run:\n",
    "    t.train(15000)"
   ]
  },
  {
   "cell_type": "code",
   "execution_count": null,
   "id": "34a5e6fd-d80a-4c10-a5d6-9f3959b749e0",
   "metadata": {},
   "outputs": [],
   "source": []
  },
  {
   "cell_type": "code",
   "execution_count": null,
   "id": "34097244-36f1-44f5-b15c-2b79240450a5",
   "metadata": {},
   "outputs": [],
   "source": []
  },
  {
   "cell_type": "code",
   "execution_count": null,
   "id": "23294d51-1f3f-4af3-a80c-ffc1580d3b98",
   "metadata": {},
   "outputs": [],
   "source": []
  },
  {
   "cell_type": "code",
   "execution_count": null,
   "id": "530a29a1-856b-4316-a5ec-6d0137044317",
   "metadata": {},
   "outputs": [],
   "source": []
  },
  {
   "cell_type": "markdown",
   "id": "853b155b-8b75-4891-be7f-f0481801ad2b",
   "metadata": {
    "jp-MarkdownHeadingCollapsed": true,
    "tags": []
   },
   "source": [
    "## Gradient Calculations"
   ]
  },
  {
   "cell_type": "code",
   "execution_count": 1414,
   "id": "e99a082d-3a85-4cfa-a0b7-99098510ca1c",
   "metadata": {},
   "outputs": [],
   "source": [
    "X = np.array([[1., 0., 2.],\n",
    "             [0., 1., 0.],\n",
    "             [0., 0., 3.]])\n",
    "Xt = tf.convert_to_tensor(X)\n",
    "\n",
    "W = np.array([[1., 0.],\n",
    "             [1., 1.],\n",
    "             [0., 1.]])\n",
    "Wt = tf.convert_to_tensor(W)"
   ]
  },
  {
   "cell_type": "code",
   "execution_count": 1415,
   "id": "85628677-ba5c-4663-bcc5-3191792a0f5d",
   "metadata": {},
   "outputs": [
    {
     "data": {
      "text/plain": [
       "array([[1., 2.],\n",
       "       [1., 1.],\n",
       "       [0., 3.]])"
      ]
     },
     "execution_count": 1415,
     "metadata": {},
     "output_type": "execute_result"
    }
   ],
   "source": [
    "Y_hat = np.dot(X, W)\n",
    "Y_hat"
   ]
  },
  {
   "cell_type": "code",
   "execution_count": 1417,
   "id": "6736ea1d-6476-400b-a1c4-0c7ab920a8fd",
   "metadata": {},
   "outputs": [],
   "source": [
    "Y = np.array([[1., 3.],\n",
    "              [1., 3.],\n",
    "              [0., 0.]])"
   ]
  },
  {
   "cell_type": "code",
   "execution_count": 1419,
   "id": "d7f158f8-b8de-4d1f-a3b0-d477695104ae",
   "metadata": {},
   "outputs": [
    {
     "data": {
      "text/plain": [
       "2.3333333333333335"
      ]
     },
     "execution_count": 1419,
     "metadata": {},
     "output_type": "execute_result"
    }
   ],
   "source": [
    "(1+4+9)/6"
   ]
  },
  {
   "cell_type": "code",
   "execution_count": 1418,
   "id": "2cf14c52-0a0a-4581-9cab-95e7ec6c37a4",
   "metadata": {},
   "outputs": [
    {
     "data": {
      "text/plain": [
       "2.3333333333333335"
      ]
     },
     "execution_count": 1418,
     "metadata": {},
     "output_type": "execute_result"
    }
   ],
   "source": [
    "mse = tf.keras.losses.MeanSquaredError()\n",
    "mse(Y, Y_hat).numpy()"
   ]
  },
  {
   "cell_type": "code",
   "execution_count": 1420,
   "id": "d4429564-960b-42b6-9978-65ee3d3b2bd8",
   "metadata": {},
   "outputs": [
    {
     "data": {
      "text/plain": [
       "array([[ 0.,  1.],\n",
       "       [ 0.,  2.],\n",
       "       [ 0., -3.]])"
      ]
     },
     "execution_count": 1420,
     "metadata": {},
     "output_type": "execute_result"
    }
   ],
   "source": [
    "Y-Y_hat"
   ]
  },
  {
   "cell_type": "code",
   "execution_count": 1424,
   "id": "8d48b13b-60cc-48ac-a4bd-c6c520b54686",
   "metadata": {},
   "outputs": [
    {
     "data": {
      "text/plain": [
       "array([[-0.        , -0.33333333],\n",
       "       [-0.        , -0.66666667],\n",
       "       [-0.        ,  2.33333333]])"
      ]
     },
     "execution_count": 1424,
     "metadata": {},
     "output_type": "execute_result"
    }
   ],
   "source": [
    "np.dot(X.T, Y-Y_hat) * -2/6"
   ]
  },
  {
   "cell_type": "code",
   "execution_count": 1422,
   "id": "e75ab872-8ef1-4de9-a710-d0f5fafa4bcf",
   "metadata": {},
   "outputs": [],
   "source": [
    "with tf.GradientTape(persistent=True) as g:\n",
    "    g.watch([Xt, Wt])\n",
    "    Yh = Xt @ Wt\n",
    "    L = mse(Y, Yh)"
   ]
  },
  {
   "cell_type": "code",
   "execution_count": 1423,
   "id": "e956813e-0699-4003-90a4-e5c9a279841e",
   "metadata": {},
   "outputs": [
    {
     "data": {
      "text/plain": [
       "[<tf.Tensor: shape=(3, 2), dtype=float64, numpy=\n",
       " array([[ 0.        , -0.33333333],\n",
       "        [ 0.        , -0.66666667],\n",
       "        [ 0.        ,  2.33333333]])>,\n",
       " <tf.Tensor: shape=(3, 3), dtype=float64, numpy=\n",
       " array([[ 0.        , -0.33333333, -0.33333333],\n",
       "        [ 0.        , -0.66666667, -0.66666667],\n",
       "        [ 0.        ,  1.        ,  1.        ]])>]"
      ]
     },
     "execution_count": 1423,
     "metadata": {},
     "output_type": "execute_result"
    }
   ],
   "source": [
    "g.gradient(L, [Wt, Xt])"
   ]
  },
  {
   "cell_type": "code",
   "execution_count": null,
   "id": "081a3ea8-1f8f-4746-b471-adcb609265ca",
   "metadata": {},
   "outputs": [],
   "source": []
  },
  {
   "cell_type": "code",
   "execution_count": 1285,
   "id": "8d92e2d9-0a20-48d2-b738-3b258a3ba589",
   "metadata": {},
   "outputs": [
    {
     "data": {
      "text/plain": [
       "<tf.Tensor: shape=(), dtype=float64, numpy=1.3333333333333333>"
      ]
     },
     "execution_count": 1285,
     "metadata": {},
     "output_type": "execute_result"
    }
   ],
   "source": [
    "L"
   ]
  },
  {
   "cell_type": "code",
   "execution_count": null,
   "id": "cd006bf2-af89-46f7-827a-53266d0e6633",
   "metadata": {},
   "outputs": [],
   "source": []
  },
  {
   "cell_type": "code",
   "execution_count": 1299,
   "id": "bac78512-3986-400d-874a-540aa558ee47",
   "metadata": {},
   "outputs": [
    {
     "data": {
      "text/plain": [
       "array([[-0.33333333, -0.        ],\n",
       "       [ 0.33333333, -0.33333333],\n",
       "       [-1.66666667,  2.        ]])"
      ]
     },
     "execution_count": 1299,
     "metadata": {},
     "output_type": "execute_result"
    }
   ],
   "source": [
    "np.dot(X.T, (Y-Y_hat)) * -2 / 6"
   ]
  },
  {
   "cell_type": "code",
   "execution_count": 1291,
   "id": "4486d788-8ffc-47ac-ba13-3daf50b451d8",
   "metadata": {},
   "outputs": [
    {
     "data": {
      "text/plain": [
       "array([[-0.33333333, -0.33333333,  0.        ],\n",
       "       [ 0.33333333,  0.        , -0.33333333],\n",
       "       [-0.33333333,  0.33333333,  0.66666667]])"
      ]
     },
     "execution_count": 1291,
     "metadata": {},
     "output_type": "execute_result"
    }
   ],
   "source": [
    "np.dot(Y_hat-Y, W.T) * 2 / 6"
   ]
  },
  {
   "cell_type": "code",
   "execution_count": 1303,
   "id": "8e3d3993-77e9-4893-b2da-90cd992c826f",
   "metadata": {},
   "outputs": [
    {
     "data": {
      "text/plain": [
       "array([[-1.        ,  1.33333333],\n",
       "       [ 0.33333333, -0.33333333],\n",
       "       [-1.        ,  2.        ]])"
      ]
     },
     "execution_count": 1303,
     "metadata": {},
     "output_type": "execute_result"
    }
   ],
   "source": [
    "np.dot(X, (Y-Y_hat)) * -2 / 6  # ---> Wrong"
   ]
  },
  {
   "cell_type": "code",
   "execution_count": null,
   "id": "895c62b5-fccd-47e8-9a87-12e68b4f8878",
   "metadata": {},
   "outputs": [],
   "source": []
  },
  {
   "cell_type": "code",
   "execution_count": null,
   "id": "9da42965-5ced-41df-8869-c0598122a6fe",
   "metadata": {},
   "outputs": [],
   "source": []
  },
  {
   "cell_type": "code",
   "execution_count": 1426,
   "id": "045cdc00-a56e-49e3-851f-05e0d01ed07b",
   "metadata": {},
   "outputs": [],
   "source": [
    "\n",
    "mse = tf.keras.losses.MeanSquaredError()\n"
   ]
  },
  {
   "cell_type": "markdown",
   "id": "09d884ba-8545-47ef-829a-3773bf886f2a",
   "metadata": {
    "tags": []
   },
   "source": [
    "## Play against AI"
   ]
  },
  {
   "cell_type": "code",
   "execution_count": 1608,
   "id": "df02d2f3-99ca-45a1-9e13-b7f4174cea56",
   "metadata": {},
   "outputs": [],
   "source": [
    "g = TicTacToe()"
   ]
  },
  {
   "cell_type": "code",
   "execution_count": 1612,
   "id": "3f6afe37-a809-4d72-a8db-ae062deb68e9",
   "metadata": {},
   "outputs": [
    {
     "data": {
      "text/plain": [
       "(-0.1, 0)"
      ]
     },
     "execution_count": 1612,
     "metadata": {},
     "output_type": "execute_result"
    }
   ],
   "source": [
    "g.execute_action(7)"
   ]
  },
  {
   "cell_type": "code",
   "execution_count": 1613,
   "id": "4dffd3cb-5740-456e-84c2-65fcc93f41bf",
   "metadata": {},
   "outputs": [
    {
     "name": "stdout",
     "output_type": "stream",
     "text": [
      "3 0\n",
      "- X O \n",
      "\n",
      "X X - \n",
      "\n",
      "- O - \n",
      "\n"
     ]
    }
   ],
   "source": [
    "m, q = MinMaxAgent.play(g.get_current_state())\n",
    "print(m, q)\n",
    "g.execute_action(m)\n",
    "g.print_board()"
   ]
  },
  {
   "cell_type": "code",
   "execution_count": null,
   "id": "31e49a50-d469-42d0-b875-1e855073201f",
   "metadata": {},
   "outputs": [],
   "source": []
  },
  {
   "cell_type": "code",
   "execution_count": 1552,
   "id": "77d83691-738f-45bd-843f-7151b529fae7",
   "metadata": {},
   "outputs": [
    {
     "name": "stdout",
     "output_type": "stream",
     "text": [
      "0 2.1647792\n",
      "X - - \n",
      "\n",
      "- - - \n",
      "\n",
      "X O - \n",
      "\n"
     ]
    }
   ],
   "source": [
    "m, q = t.agent.play(g.get_current_state())\n",
    "print(m, q)\n",
    "g.execute_action(m)\n",
    "g.print_board()"
   ]
  },
  {
   "cell_type": "code",
   "execution_count": 1554,
   "id": "f8e7b8a1-4428-4dfd-9105-6cbbe5d89534",
   "metadata": {},
   "outputs": [
    {
     "data": {
      "text/plain": [
       "array([[ 1.,  0.,  0.],\n",
       "       [ 0.,  0.,  0.],\n",
       "       [ 1., -1.,  0.]])"
      ]
     },
     "execution_count": 1554,
     "metadata": {},
     "output_type": "execute_result"
    }
   ],
   "source": [
    "g.get_current_state().reshape(3, 3)"
   ]
  },
  {
   "cell_type": "code",
   "execution_count": 1555,
   "id": "1824ef13-e1aa-4179-a59c-af543244a60f",
   "metadata": {},
   "outputs": [
    {
     "data": {
      "text/plain": [
       "-1"
      ]
     },
     "execution_count": 1555,
     "metadata": {},
     "output_type": "execute_result"
    }
   ],
   "source": [
    "g.current_player"
   ]
  },
  {
   "cell_type": "code",
   "execution_count": null,
   "id": "4516b142-ffa2-4d57-9435-0008b384477e",
   "metadata": {},
   "outputs": [],
   "source": []
  },
  {
   "cell_type": "code",
   "execution_count": null,
   "id": "2ad19fb0-576a-45a8-b639-8e4e91f7e702",
   "metadata": {},
   "outputs": [],
   "source": []
  },
  {
   "cell_type": "code",
   "execution_count": 1614,
   "id": "358e8d32-9783-4dc2-9487-36fb35eaac1a",
   "metadata": {},
   "outputs": [],
   "source": [
    "s = play_games_against_random(t.agent, 100)\n",
    "s"
   ]
  },
  {
   "cell_type": "code",
   "execution_count": 1629,
   "id": "8011e6e6-611a-4667-ab96-5421244f3d98",
   "metadata": {},
   "outputs": [
    {
     "data": {
      "text/plain": [
       "{'random_win': 0.91, 'random_lost': 0.05, 'random_draw': 0.04}"
      ]
     },
     "execution_count": 1629,
     "metadata": {},
     "output_type": "execute_result"
    }
   ],
   "source": [
    "s = play_games_against_other_agent(t.agent, RandomAgent(), 'random', 100)\n",
    "s"
   ]
  },
  {
   "cell_type": "code",
   "execution_count": 1630,
   "id": "e93b31a0-d216-4f56-b988-9b7c4d2e1486",
   "metadata": {},
   "outputs": [
    {
     "data": {
      "text/plain": [
       "{'minmax_win': 0, 'minmax_lost': 0.44, 'minmax_draw': 0.56}"
      ]
     },
     "execution_count": 1630,
     "metadata": {},
     "output_type": "execute_result"
    }
   ],
   "source": [
    "s = play_games_against_other_agent(t.agent, MinMaxAgent(), 'minmax', 100)\n",
    "s"
   ]
  },
  {
   "cell_type": "code",
   "execution_count": 1636,
   "id": "9805e621-98d7-4da6-9514-2654c898c6ae",
   "metadata": {},
   "outputs": [
    {
     "data": {
      "text/plain": [
       "{'minmaxvs_random_win': 0.84,\n",
       " 'minmaxvs_random_lost': 0,\n",
       " 'minmaxvs_random_draw': 0.16}"
      ]
     },
     "execution_count": 1636,
     "metadata": {},
     "output_type": "execute_result"
    }
   ],
   "source": [
    "s = play_games_against_other_agent(MinMaxAgent(), RandomAgent(), 'minmaxvs_random', 100)\n",
    "s"
   ]
  },
  {
   "cell_type": "code",
   "execution_count": 1637,
   "id": "9c9eef41-6e47-4c23-ad6b-18272d28e25b",
   "metadata": {},
   "outputs": [
    {
     "data": {
      "text/plain": [
       "{'minmaxvs_random_win': 0.87,\n",
       " 'minmaxvs_random_lost': 0,\n",
       " 'minmaxvs_random_draw': 0.13}"
      ]
     },
     "execution_count": 1637,
     "metadata": {},
     "output_type": "execute_result"
    }
   ],
   "source": [
    "s = play_games_against_other_agent(MinMaxAgent(), RandomAgent(), 'minmaxvs_random', 100)\n",
    "s"
   ]
  },
  {
   "cell_type": "code",
   "execution_count": 1644,
   "id": "f20d295b-88d9-461c-b459-7a13c018d68f",
   "metadata": {},
   "outputs": [
    {
     "data": {
      "text/plain": [
       "{'random_vs_minmax_win': 0,\n",
       " 'random_vs_minmax_lost': 0.83,\n",
       " 'random_vs_minmax_draw': 0.18}"
      ]
     },
     "execution_count": 1644,
     "metadata": {},
     "output_type": "execute_result"
    }
   ],
   "source": [
    "s = play_games_against_other_agent( RandomAgent(), MinMaxAgent(), 'random_vs_minmax', 40)\n",
    "s"
   ]
  },
  {
   "cell_type": "code",
   "execution_count": null,
   "id": "3bc7abfc-0d69-4900-82a1-4b2085f4e03b",
   "metadata": {},
   "outputs": [],
   "source": []
  },
  {
   "cell_type": "code",
   "execution_count": null,
   "id": "cc726657-b19a-4df1-b38c-567844a0da8b",
   "metadata": {},
   "outputs": [],
   "source": []
  },
  {
   "cell_type": "code",
   "execution_count": null,
   "id": "df50bee5-4d08-4228-890e-165fc93721ef",
   "metadata": {},
   "outputs": [],
   "source": []
  },
  {
   "cell_type": "markdown",
   "id": "3c2d2bb5-3e1a-4816-a0c9-821be464f932",
   "metadata": {
    "tags": []
   },
   "source": [
    "### Test gradient updates"
   ]
  },
  {
   "cell_type": "code",
   "execution_count": null,
   "id": "4168b364-0a30-42da-94a9-1ac212511f42",
   "metadata": {},
   "outputs": [],
   "source": []
  },
  {
   "cell_type": "code",
   "execution_count": null,
   "id": "4a6a6a41-f8c4-4501-9dab-03bc90526e89",
   "metadata": {},
   "outputs": [],
   "source": []
  },
  {
   "cell_type": "code",
   "execution_count": null,
   "id": "9486d399-83fa-477f-9d9c-31a754205d79",
   "metadata": {},
   "outputs": [],
   "source": []
  },
  {
   "cell_type": "code",
   "execution_count": null,
   "id": "2ad32a96-9839-4801-9e2b-3fdbfbd10baa",
   "metadata": {},
   "outputs": [],
   "source": []
  },
  {
   "cell_type": "code",
   "execution_count": null,
   "id": "fab8a3a6-3c20-4c50-a3c8-c9829e3c6aaf",
   "metadata": {},
   "outputs": [],
   "source": []
  }
 ],
 "metadata": {
  "kernelspec": {
   "display_name": "Python 3 (ipykernel)",
   "language": "python",
   "name": "python3"
  },
  "language_info": {
   "codemirror_mode": {
    "name": "ipython",
    "version": 3
   },
   "file_extension": ".py",
   "mimetype": "text/x-python",
   "name": "python",
   "nbconvert_exporter": "python",
   "pygments_lexer": "ipython3",
   "version": "3.9.10"
  }
 },
 "nbformat": 4,
 "nbformat_minor": 5
}
