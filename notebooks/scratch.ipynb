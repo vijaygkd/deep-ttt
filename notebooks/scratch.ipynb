{
 "cells": [
  {
   "cell_type": "code",
   "execution_count": 1,
   "id": "0e7982d4-da90-4eba-9582-b4c27266fbc3",
   "metadata": {},
   "outputs": [
    {
     "name": "stdout",
     "output_type": "stream",
     "text": [
      "/Users/vijay/vijaygkd/deep-ttt\n"
     ]
    }
   ],
   "source": [
    "cd .."
   ]
  },
  {
   "cell_type": "code",
   "execution_count": 2,
   "id": "35edf7cc-67bc-46ce-85ed-a4fabfea61f0",
   "metadata": {},
   "outputs": [],
   "source": [
    "import numpy as np"
   ]
  },
  {
   "cell_type": "code",
   "execution_count": 5,
   "id": "51ec71a4-1afa-4f24-baef-9d6e98d73ed3",
   "metadata": {},
   "outputs": [],
   "source": [
    "%load_ext autoreload\n",
    "%autoreload 2"
   ]
  },
  {
   "cell_type": "code",
   "execution_count": 46,
   "id": "faa37655-a4c1-4344-9874-5e2edc8cbbc7",
   "metadata": {},
   "outputs": [],
   "source": [
    "from dqn.environment import *\n",
    "from dqn.agent import RandomAgent"
   ]
  },
  {
   "cell_type": "code",
   "execution_count": 31,
   "id": "210affbd-ae1e-42d9-85a7-0da504fc29fa",
   "metadata": {},
   "outputs": [],
   "source": [
    "t = TicTacToe()"
   ]
  },
  {
   "cell_type": "code",
   "execution_count": 57,
   "id": "5da24563-f031-406b-996e-5265fb5aacbc",
   "metadata": {},
   "outputs": [],
   "source": [
    "D = []\n",
    "wins = draws = total = 0\n",
    "\n",
    "while len(D) < 10000:\n",
    "    t = TicTacToe()\n",
    "    total += 1\n",
    "    reward = 0\n",
    "    while t.game_over == 0:\n",
    "        current_state = t.get_current_state()\n",
    "        choice = RandomAgent.play_next_move(current_state)\n",
    "        reward, game_over = t.execute_action(choice)\n",
    "        next_state = t.get_current_state()\n",
    "        d = (current_state, choice, next_state, game_over)\n",
    "        D.append(d)\n",
    "    if reward == WIN:\n",
    "        wins += 1\n",
    "    if reward == DRAW:\n",
    "        draws += 1\n"
   ]
  },
  {
   "cell_type": "code",
   "execution_count": 58,
   "id": "a509db84-881a-433d-bc64-9150ef7afeb1",
   "metadata": {},
   "outputs": [
    {
     "data": {
      "text/plain": [
       "(1320, 865, 455, 10005)"
      ]
     },
     "execution_count": 58,
     "metadata": {},
     "output_type": "execute_result"
    }
   ],
   "source": [
    "total, wins, draws, len(D)"
   ]
  },
  {
   "cell_type": "code",
   "execution_count": null,
   "id": "29daffbc-36f5-45dd-84aa-4a2ed0129e1c",
   "metadata": {},
   "outputs": [],
   "source": []
  }
 ],
 "metadata": {
  "kernelspec": {
   "display_name": "Python 3 (ipykernel)",
   "language": "python",
   "name": "python3"
  },
  "language_info": {
   "codemirror_mode": {
    "name": "ipython",
    "version": 3
   },
   "file_extension": ".py",
   "mimetype": "text/x-python",
   "name": "python",
   "nbconvert_exporter": "python",
   "pygments_lexer": "ipython3",
   "version": "3.9.10"
  }
 },
 "nbformat": 4,
 "nbformat_minor": 5
}
