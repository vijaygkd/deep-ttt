{
 "cells": [
  {
   "cell_type": "code",
   "execution_count": 2,
   "id": "0e7982d4-da90-4eba-9582-b4c27266fbc3",
   "metadata": {},
   "outputs": [
    {
     "name": "stdout",
     "output_type": "stream",
     "text": [
      "/Users/vijay/vijaygkd/deep-ttt\n"
     ]
    }
   ],
   "source": [
    "cd .."
   ]
  },
  {
   "cell_type": "code",
   "execution_count": 438,
   "id": "35edf7cc-67bc-46ce-85ed-a4fabfea61f0",
   "metadata": {},
   "outputs": [],
   "source": [
    "import numpy as np\n",
    "import tensorflow as tf\n",
    "from tensorflow.keras import backend as k\n",
    "import mlflow"
   ]
  },
  {
   "cell_type": "code",
   "execution_count": 6,
   "id": "51ec71a4-1afa-4f24-baef-9d6e98d73ed3",
   "metadata": {},
   "outputs": [],
   "source": [
    "#%load_ext autoreload\n",
    "%autoreload 2"
   ]
  },
  {
   "cell_type": "code",
   "execution_count": 4,
   "id": "faa37655-a4c1-4344-9874-5e2edc8cbbc7",
   "metadata": {},
   "outputs": [],
   "source": [
    "from dqn.environment import *\n",
    "from dqn.agent import RandomAgent, QAgent\n",
    "from dqn.model import DQN\n",
    "from dqn.train import Memory, QLearning\n"
   ]
  },
  {
   "cell_type": "code",
   "execution_count": 492,
   "id": "ab2e1ffa-a38e-4626-96e7-1860c4865fc0",
   "metadata": {},
   "outputs": [
    {
     "name": "stdout",
     "output_type": "stream",
     "text": [
      "hey4\n"
     ]
    }
   ],
   "source": [
    "t = QLearning()"
   ]
  },
  {
   "cell_type": "code",
   "execution_count": 493,
   "id": "04afe387-9d55-4995-8544-01f1345b7028",
   "metadata": {},
   "outputs": [
    {
     "name": "stdout",
     "output_type": "stream",
     "text": [
      "Model: \"model_36\"\n",
      "__________________________________________________________________________________________________\n",
      " Layer (type)                   Output Shape         Param #     Connected to                     \n",
      "==================================================================================================\n",
      " input_states (InputLayer)      [(None, 9)]          0           []                               \n",
      "                                                                                                  \n",
      " hidden_1 (Dense)               (None, 64)           640         ['input_states[0][0]']           \n",
      "                                                                                                  \n",
      " hidden_2 (Dense)               (None, 32)           2080        ['hidden_1[0][0]']               \n",
      "                                                                                                  \n",
      " output (Dense)                 (None, 9)            297         ['hidden_2[0][0]']               \n",
      "                                                                                                  \n",
      " input_actions (InputLayer)     [(None, 1)]          0           []                               \n",
      "                                                                                                  \n",
      " final_layer (QOutputLayer)     [(None,),            0           ['output[0][0]',                 \n",
      "                                 (None,)]                         'input_actions[0][0]']          \n",
      "                                                                                                  \n",
      "==================================================================================================\n",
      "Total params: 3,017\n",
      "Trainable params: 3,017\n",
      "Non-trainable params: 0\n",
      "__________________________________________________________________________________________________\n"
     ]
    }
   ],
   "source": [
    "t.net.model.summary()"
   ]
  },
  {
   "cell_type": "code",
   "execution_count": 494,
   "id": "102f643a-3da5-44b1-be18-1dc10db98a2f",
   "metadata": {
    "tags": []
   },
   "outputs": [
    {
     "name": "stderr",
     "output_type": "stream",
     "text": [
      "100%|█████████████████████████████████████████████████████████████████| 10000/10000 [1:27:52<00:00,  1.90it/s]\n"
     ]
    }
   ],
   "source": [
    "with mlflow.start_run(run_name='test run 5 - fix metrics') as run:\n",
    "    t.train(10000)"
   ]
  },
  {
   "cell_type": "code",
   "execution_count": 495,
   "id": "a2bc0885-74f7-4043-a8aa-6f1c06a19ca1",
   "metadata": {},
   "outputs": [
    {
     "name": "stderr",
     "output_type": "stream",
     "text": [
      "100%|█████████████████████████████████████████████████████████████████| 20000/20000 [1:24:09<00:00,  3.96it/s]\n"
     ]
    }
   ],
   "source": [
    "with mlflow.start_run(run_name='test run 5 - fix metrics - 2') as run:\n",
    "    t.train(20000)"
   ]
  },
  {
   "cell_type": "code",
   "execution_count": null,
   "id": "e99a082d-3a85-4cfa-a0b7-99098510ca1c",
   "metadata": {},
   "outputs": [],
   "source": []
  },
  {
   "cell_type": "code",
   "execution_count": null,
   "id": "045cdc00-a56e-49e3-851f-05e0d01ed07b",
   "metadata": {},
   "outputs": [],
   "source": []
  },
  {
   "cell_type": "code",
   "execution_count": null,
   "id": "404836ea-4d1e-4338-9fea-23f7b69fd6bb",
   "metadata": {},
   "outputs": [],
   "source": []
  },
  {
   "cell_type": "code",
   "execution_count": null,
   "id": "e85b3397-9e6c-4fb1-9a3a-39649292cd9b",
   "metadata": {},
   "outputs": [],
   "source": []
  },
  {
   "cell_type": "code",
   "execution_count": null,
   "id": "b7228c48-075f-4c96-a9ae-11a5f6d5f7e9",
   "metadata": {},
   "outputs": [],
   "source": []
  },
  {
   "cell_type": "code",
   "execution_count": 496,
   "id": "d8594078-88aa-4424-93a1-915e42458105",
   "metadata": {},
   "outputs": [
    {
     "data": {
      "text/plain": [
       "[array([[ 0.,  0., -1.,  0.,  1.,  0.,  0.,  0.,  0.],\n",
       "        [ 0.,  0.,  1.,  0.,  0.,  0.,  0.,  0.,  0.],\n",
       "        [ 0.,  0.,  0.,  0.,  0.,  0.,  0.,  1.,  0.],\n",
       "        [ 0.,  1.,  0.,  0.,  0., -1.,  0.,  0.,  0.],\n",
       "        [ 0.,  0.,  0.,  0., -1.,  1.,  0.,  0.,  1.]]),\n",
       " array([6., 1., 5., 3., 5.]),\n",
       " array([-0.1, -0.1, -0.1, -0.1, -5. ]),\n",
       " array([[ 0.,  0., -1.,  0.,  1.,  0.,  1.,  0.,  0.],\n",
       "        [ 0., -1.,  1.,  0.,  0.,  0.,  0.,  0.,  0.],\n",
       "        [ 0.,  0.,  0.,  0.,  0., -1.,  0.,  1.,  0.],\n",
       "        [ 0.,  1.,  0.,  1.,  0., -1.,  0.,  0.,  0.],\n",
       "        [ 0.,  0.,  0.,  0., -1.,  1.,  0.,  0.,  1.]]),\n",
       " array([0., 0., 0., 0., 0.])]"
      ]
     },
     "execution_count": 496,
     "metadata": {},
     "output_type": "execute_result"
    }
   ],
   "source": [
    "board_samples"
   ]
  },
  {
   "cell_type": "code",
   "execution_count": 497,
   "id": "3b5a35ab-34fc-4558-a67f-0d61e89114fb",
   "metadata": {},
   "outputs": [
    {
     "name": "stdout",
     "output_type": "stream",
     "text": [
      "1/1 [==============================] - 0s 17ms/step\n"
     ]
    },
    {
     "data": {
      "text/plain": [
       "[array([6, 1, 5, 0, 2]),\n",
       " array([ 0.3141801 , -0.24979544, -0.11569901,  0.44423825, -0.10521524],\n",
       "       dtype=float32)]"
      ]
     },
     "execution_count": 497,
     "metadata": {},
     "output_type": "execute_result"
    }
   ],
   "source": [
    "ans = t.net.model.predict([board_samples[0], board_samples[1]])\n",
    "ans"
   ]
  },
  {
   "cell_type": "code",
   "execution_count": 559,
   "id": "df02d2f3-99ca-45a1-9e13-b7f4174cea56",
   "metadata": {},
   "outputs": [],
   "source": [
    "g = TicTacToe()"
   ]
  },
  {
   "cell_type": "code",
   "execution_count": 582,
   "id": "77d83691-738f-45bd-843f-7151b529fae7",
   "metadata": {},
   "outputs": [
    {
     "data": {
      "text/plain": [
       "(-5, 1)"
      ]
     },
     "execution_count": 582,
     "metadata": {},
     "output_type": "execute_result"
    }
   ],
   "source": [
    "g.execute_action(8)"
   ]
  },
  {
   "cell_type": "code",
   "execution_count": 583,
   "id": "b160ace2-8e4b-4894-8239-a7a56f3a0bbd",
   "metadata": {},
   "outputs": [
    {
     "name": "stdout",
     "output_type": "stream",
     "text": [
      "X O O \n",
      "\n",
      "O X - \n",
      "\n",
      "X - X \n",
      "\n"
     ]
    }
   ],
   "source": [
    "g.print_board()"
   ]
  },
  {
   "cell_type": "code",
   "execution_count": 584,
   "id": "b47f11c8-a768-4976-80b4-25451426baf1",
   "metadata": {},
   "outputs": [
    {
     "name": "stdout",
     "output_type": "stream",
     "text": [
      "1/1 [==============================] - 0s 11ms/step\n"
     ]
    },
    {
     "data": {
      "text/plain": [
       "[array([8]), array([0.16187888], dtype=float32)]"
      ]
     },
     "execution_count": 584,
     "metadata": {},
     "output_type": "execute_result"
    }
   ],
   "source": [
    "t.net.model.predict([g.get_current_state().reshape(1,9), np.array([-1])])"
   ]
  },
  {
   "cell_type": "code",
   "execution_count": null,
   "id": "5e3e09e9-163e-4bb1-a588-7aa9f801ab48",
   "metadata": {},
   "outputs": [],
   "source": []
  },
  {
   "cell_type": "code",
   "execution_count": null,
   "id": "b924c86a-ca78-47e1-a9a3-dc003dbee0f5",
   "metadata": {},
   "outputs": [],
   "source": []
  }
 ],
 "metadata": {
  "kernelspec": {
   "display_name": "Python 3 (ipykernel)",
   "language": "python",
   "name": "python3"
  },
  "language_info": {
   "codemirror_mode": {
    "name": "ipython",
    "version": 3
   },
   "file_extension": ".py",
   "mimetype": "text/x-python",
   "name": "python",
   "nbconvert_exporter": "python",
   "pygments_lexer": "ipython3",
   "version": "3.9.10"
  }
 },
 "nbformat": 4,
 "nbformat_minor": 5
}
