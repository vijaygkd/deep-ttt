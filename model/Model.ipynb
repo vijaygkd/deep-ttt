{
 "cells": [
  {
   "cell_type": "markdown",
   "metadata": {},
   "source": [
    "## 1. Data import"
   ]
  },
  {
   "cell_type": "markdown",
   "metadata": {},
   "source": [
    "Import the simulated data and convert in into 3x3x2 ndarray. 3x3 is the tic-tac-toe grid dimensions. 2 are the values of X and O. 1-0 represents X, 0-1 represents O, 0-0 represents empty cell.\n",
    "\n",
    "Input data representation for the model is:\n",
    "* Input: current state of 3x3x2 (board)\n",
    "* Output(Int 1-9) : Position of next move to make"
   ]
  },
  {
   "cell_type": "code",
   "execution_count": 331,
   "metadata": {},
   "outputs": [],
   "source": [
    "import numpy as np"
   ]
  },
  {
   "cell_type": "code",
   "execution_count": 332,
   "metadata": {},
   "outputs": [
    {
     "name": "stdout",
     "output_type": "stream",
     "text": [
      "Length of raw data: 15119\n",
      "Sample row: [1. 2. 3. 4. 5. 6. 7. 0. 0. 1.]\n"
     ]
    }
   ],
   "source": [
    "input_file = 'good_games_data.csv'\n",
    "raw_data = np.genfromtxt(input_file, delimiter=',')\n",
    "print(\"Length of raw data:\", len(raw_data))\n",
    "print(\"Sample row:\", raw_data[0])"
   ]
  },
  {
   "cell_type": "code",
   "execution_count": 333,
   "metadata": {},
   "outputs": [],
   "source": [
    "def playNextMove(board, move, player):\n",
    "    playerIndex = player - 1\n",
    "    moveIndex = move - 1\n",
    "    \n",
    "    r, c = indexToRowCol(moveIndex)\n",
    "    board[r, c, playerIndex] = 1\n",
    "\n",
    "def indexToRowCol(index):\n",
    "    r = index // 3\n",
    "    c = index % 3\n",
    "    return r, c"
   ]
  },
  {
   "cell_type": "code",
   "execution_count": 334,
   "metadata": {},
   "outputs": [],
   "source": [
    "def convertRawToModelInput(raw_data):\n",
    "    X = []\n",
    "    Y = []\n",
    "    for raw in raw_data:\n",
    "        board = np.zeros((3,3,2))\n",
    "        player = 0\n",
    "        for i in range(9):\n",
    "            if raw[i] == 0:\n",
    "                break #game already over\n",
    "\n",
    "            if raw[-1] == 1:\n",
    "                if i%2 == 0:\n",
    "                    player = 1\n",
    "                    X.append(board.copy())\n",
    "                    Y.append(raw[i])\n",
    "                else:\n",
    "                    player = 2\n",
    "\n",
    "            else:           \n",
    "                if i%2 == 1:\n",
    "                    player = 2\n",
    "                    X.append(board.copy())\n",
    "                    Y.append(raw[i])\n",
    "                else:\n",
    "                    player = 1\n",
    "\n",
    "            playNextMove(board, int(raw[i]), player)\n",
    "\n",
    "    return np.array(X), np.array(Y)\n"
   ]
  },
  {
   "cell_type": "code",
   "execution_count": 335,
   "metadata": {},
   "outputs": [],
   "source": [
    "def shuffle_in_unison(a, b):\n",
    "     n_elem = a.shape[0]\n",
    "     indeces = np.random.choice(n_elem, size=n_elem, replace=False)\n",
    "     return a[indeces], b[indeces]"
   ]
  },
  {
   "cell_type": "code",
   "execution_count": 336,
   "metadata": {},
   "outputs": [],
   "source": [
    "def convertToOneHot(Y, n_y):\n",
    "    Y = Y.astype(int)\n",
    "    Y_index = Y - 1  # convert position to index\n",
    "    m = len(Y)\n",
    "    Y_oh = np.zeros((m, n_y))\n",
    "    Y_oh[np.arange(m), Y_index] = 1\n",
    "    return Y_oh"
   ]
  },
  {
   "cell_type": "code",
   "execution_count": 337,
   "metadata": {},
   "outputs": [
    {
     "name": "stdout",
     "output_type": "stream",
     "text": [
      "Size of input data: 53792\n"
     ]
    }
   ],
   "source": [
    "X, Y = convertRawToModelInput(raw_data)\n",
    "X,Y = shuffle_in_unison(X, Y)\n",
    "Y = convertToOneHot(Y, 9)\n",
    "print(\"Size of input data:\", len(Y))"
   ]
  },
  {
   "cell_type": "code",
   "execution_count": 338,
   "metadata": {},
   "outputs": [
    {
     "name": "stdout",
     "output_type": "stream",
     "text": [
      "Shape of X_train (50000, 3, 3, 2)\n",
      "Shape of Y_train (50000, 9)\n",
      "Shape of X_test (3792, 3, 3, 2)\n",
      "Shape of Y_test (3792, 9)\n"
     ]
    }
   ],
   "source": [
    "m = 50000\n",
    "X_train = X[:m]\n",
    "Y_train = Y[:m]\n",
    "X_test = X[m:]\n",
    "Y_test = Y[m:]\n",
    "\n",
    "print(\"Shape of X_train\", X_train.shape)\n",
    "print(\"Shape of Y_train\", Y_train.shape)\n",
    "print(\"Shape of X_test\", X_test.shape)\n",
    "print(\"Shape of Y_test\", Y_test.shape)"
   ]
  },
  {
   "cell_type": "markdown",
   "metadata": {},
   "source": [
    "## 2. Model\n",
    "\n",
    "Return instance of the model"
   ]
  },
  {
   "cell_type": "code",
   "execution_count": 339,
   "metadata": {},
   "outputs": [],
   "source": [
    "from keras.models import Model\n",
    "from keras.layers import Input, Dense, Conv2D, Flatten\n",
    "from keras.optimizers import Adam"
   ]
  },
  {
   "cell_type": "code",
   "execution_count": 340,
   "metadata": {},
   "outputs": [],
   "source": [
    "def model():\n",
    "    \n",
    "    X_train = Input(shape=(3,3,2,))\n",
    "    X = Conv2D(128, (3,3), input_shape=(3, 3, 2), activation=\"relu\")(X_train)\n",
    "    X = Flatten()(X)\n",
    "    X = Dense(128, activation=\"relu\")(X)\n",
    "    X = Dense(64, activation=\"relu\")(X)\n",
    "    X = Dense(32, activation=\"relu\")(X)\n",
    "    Y = Dense(9, activation=\"softmax\")(X)\n",
    "    \n",
    "    model = Model(inputs=X_train, outputs= Y)\n",
    "    return model"
   ]
  },
  {
   "cell_type": "code",
   "execution_count": 341,
   "metadata": {},
   "outputs": [
    {
     "name": "stdout",
     "output_type": "stream",
     "text": [
      "_________________________________________________________________\n",
      "Layer (type)                 Output Shape              Param #   \n",
      "=================================================================\n",
      "input_19 (InputLayer)        (None, 3, 3, 2)           0         \n",
      "_________________________________________________________________\n",
      "conv2d_11 (Conv2D)           (None, 1, 1, 128)         2432      \n",
      "_________________________________________________________________\n",
      "flatten_7 (Flatten)          (None, 128)               0         \n",
      "_________________________________________________________________\n",
      "dense_45 (Dense)             (None, 128)               16512     \n",
      "_________________________________________________________________\n",
      "dense_46 (Dense)             (None, 64)                8256      \n",
      "_________________________________________________________________\n",
      "dense_47 (Dense)             (None, 32)                2080      \n",
      "_________________________________________________________________\n",
      "dense_48 (Dense)             (None, 9)                 297       \n",
      "=================================================================\n",
      "Total params: 29,577\n",
      "Trainable params: 29,577\n",
      "Non-trainable params: 0\n",
      "_________________________________________________________________\n"
     ]
    }
   ],
   "source": [
    "m = model()\n",
    "m.summary()"
   ]
  },
  {
   "cell_type": "code",
   "execution_count": 342,
   "metadata": {},
   "outputs": [],
   "source": [
    "opt = Adam()\n",
    "m.compile(opt, loss=\"categorical_crossentropy\", metrics=['accuracy'])"
   ]
  },
  {
   "cell_type": "code",
   "execution_count": 344,
   "metadata": {},
   "outputs": [
    {
     "name": "stdout",
     "output_type": "stream",
     "text": [
      "Epoch 1/10\n",
      "50000/50000 [==============================] - 5s 99us/step - loss: 1.3363 - acc: 0.4309\n",
      "Epoch 2/10\n",
      "50000/50000 [==============================] - 5s 97us/step - loss: 1.3340 - acc: 0.4301\n",
      "Epoch 3/10\n",
      "50000/50000 [==============================] - 5s 97us/step - loss: 1.3295 - acc: 0.4328\n",
      "Epoch 4/10\n",
      "50000/50000 [==============================] - 5s 97us/step - loss: 1.3271 - acc: 0.4330\n",
      "Epoch 5/10\n",
      "50000/50000 [==============================] - 5s 98us/step - loss: 1.3253 - acc: 0.4325\n",
      "Epoch 6/10\n",
      "50000/50000 [==============================] - 6s 110us/step - loss: 1.3247 - acc: 0.4308\n",
      "Epoch 7/10\n",
      "50000/50000 [==============================] - 5s 108us/step - loss: 1.3222 - acc: 0.4320\n",
      "Epoch 8/10\n",
      "50000/50000 [==============================] - 5s 102us/step - loss: 1.3196 - acc: 0.4337\n",
      "Epoch 9/10\n",
      "50000/50000 [==============================] - 5s 101us/step - loss: 1.3205 - acc: 0.4299\n",
      "Epoch 10/10\n",
      "50000/50000 [==============================] - 5s 100us/step - loss: 1.3181 - acc: 0.4338\n"
     ]
    },
    {
     "data": {
      "text/plain": [
       "<keras.callbacks.History at 0x18268654e0>"
      ]
     },
     "execution_count": 344,
     "metadata": {},
     "output_type": "execute_result"
    }
   ],
   "source": [
    "m.fit(X_train, Y_train, epochs=10, batch_size=32)"
   ]
  },
  {
   "cell_type": "code",
   "execution_count": 345,
   "metadata": {},
   "outputs": [
    {
     "name": "stdout",
     "output_type": "stream",
     "text": [
      "3792/3792 [==============================] - 0s 90us/step\n"
     ]
    },
    {
     "data": {
      "text/plain": [
       "[1.3253529594920355, 0.42273206751054854]"
      ]
     },
     "execution_count": 345,
     "metadata": {},
     "output_type": "execute_result"
    }
   ],
   "source": [
    "m.evaluate(X_test, Y_test, batch_size=32)"
   ]
  },
  {
   "cell_type": "markdown",
   "metadata": {},
   "source": [
    "## 3. Test"
   ]
  },
  {
   "cell_type": "code",
   "execution_count": 346,
   "metadata": {},
   "outputs": [],
   "source": [
    "def printBoard(board):\n",
    "    def getChar(a):\n",
    "        if np.array_equal(np.array([1,0]), a):\n",
    "            return 'X'\n",
    "        elif np.array_equal(np.array([0,1]), a):\n",
    "            return 'O'\n",
    "        return '-'\n",
    "\n",
    "    for i in range(3):\n",
    "        s = []\n",
    "        for j in range(3):\n",
    "            s.append(getChar(board[i][j]))\n",
    "        print(\" \".join(s))"
   ]
  },
  {
   "cell_type": "code",
   "execution_count": 375,
   "metadata": {},
   "outputs": [],
   "source": [
    "board = np.zeros((3,3,2))"
   ]
  },
  {
   "cell_type": "code",
   "execution_count": 380,
   "metadata": {},
   "outputs": [
    {
     "name": "stdout",
     "output_type": "stream",
     "text": [
      "Input board:\n",
      "- O X\n",
      "- X -\n",
      "O - -\n",
      "Output board:\n",
      "- O X\n",
      "X X -\n",
      "O - -\n"
     ]
    }
   ],
   "source": [
    "print(\"Input board:\")\n",
    "printBoard(board)\n",
    "\n",
    "# model predict\n",
    "input = np.empty((1,3,3,2))\n",
    "input[0] = board\n",
    "output = m.predict(input)\n",
    "moveIndex = np.argmax(output)\n",
    "\n",
    "# update board\n",
    "playerIndex = int(board.sum() % 2)\n",
    "r, c = indexToRowCol(moveIndex)\n",
    "board[r, c, playerIndex] = 1\n",
    "print(\"Output board:\")\n",
    "printBoard(board)"
   ]
  },
  {
   "cell_type": "code",
   "execution_count": 379,
   "metadata": {},
   "outputs": [],
   "source": [
    "player = 1   # 0: X, 1: O\n",
    "my_move = 6\n",
    "r, c = indexToRowCol(my_move)\n",
    "board[r,c,player] = 1\n"
   ]
  },
  {
   "cell_type": "code",
   "execution_count": 316,
   "metadata": {},
   "outputs": [],
   "source": []
  },
  {
   "cell_type": "code",
   "execution_count": null,
   "metadata": {},
   "outputs": [],
   "source": []
  }
 ],
 "metadata": {
  "kernelspec": {
   "display_name": "Python 3",
   "language": "python",
   "name": "python3"
  },
  "language_info": {
   "codemirror_mode": {
    "name": "ipython",
    "version": 3
   },
   "file_extension": ".py",
   "mimetype": "text/x-python",
   "name": "python",
   "nbconvert_exporter": "python",
   "pygments_lexer": "ipython3",
   "version": "3.6.4"
  }
 },
 "nbformat": 4,
 "nbformat_minor": 2
}
