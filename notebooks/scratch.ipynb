{
 "cells": [
  {
   "cell_type": "code",
   "execution_count": 2,
   "id": "0e7982d4-da90-4eba-9582-b4c27266fbc3",
   "metadata": {},
   "outputs": [
    {
     "name": "stdout",
     "output_type": "stream",
     "text": [
      "/Users/vijay/vijaygkd/deep-ttt\n"
     ]
    }
   ],
   "source": [
    "cd .."
   ]
  },
  {
   "cell_type": "code",
   "execution_count": 438,
   "id": "35edf7cc-67bc-46ce-85ed-a4fabfea61f0",
   "metadata": {},
   "outputs": [],
   "source": [
    "import numpy as np\n",
    "import tensorflow as tf\n",
    "from tensorflow.keras import backend as k\n",
    "import mlflow"
   ]
  },
  {
   "cell_type": "code",
   "execution_count": 6,
   "id": "51ec71a4-1afa-4f24-baef-9d6e98d73ed3",
   "metadata": {},
   "outputs": [],
   "source": [
    "#%load_ext autoreload\n",
    "%autoreload 2"
   ]
  },
  {
   "cell_type": "code",
   "execution_count": 1089,
   "id": "faa37655-a4c1-4344-9874-5e2edc8cbbc7",
   "metadata": {},
   "outputs": [],
   "source": [
    "from dqn.environment import *\n",
    "from dqn.agent import RandomAgent, QAgent\n",
    "from dqn.model import DQN\n",
    "from dqn.train import Memory, QLearning, play_games_against_random\n"
   ]
  },
  {
   "cell_type": "code",
   "execution_count": 1224,
   "id": "ab2e1ffa-a38e-4626-96e7-1860c4865fc0",
   "metadata": {},
   "outputs": [
    {
     "name": "stdout",
     "output_type": "stream",
     "text": [
      "hey11\n"
     ]
    }
   ],
   "source": [
    "t = QLearning()"
   ]
  },
  {
   "cell_type": "code",
   "execution_count": 1225,
   "id": "04afe387-9d55-4995-8544-01f1345b7028",
   "metadata": {},
   "outputs": [
    {
     "name": "stdout",
     "output_type": "stream",
     "text": [
      "Model: \"model_63\"\n",
      "__________________________________________________________________________________________________\n",
      " Layer (type)                   Output Shape         Param #     Connected to                     \n",
      "==================================================================================================\n",
      " input_states (InputLayer)      [(None, 9)]          0           []                               \n",
      "                                                                                                  \n",
      " hidden_1 (Dense)               (None, 128)          1280        ['input_states[0][0]']           \n",
      "                                                                                                  \n",
      " hidden_2 (Dense)               (None, 64)           8256        ['hidden_1[0][0]']               \n",
      "                                                                                                  \n",
      " input_actions (InputLayer)     [(None, 1)]          0           []                               \n",
      "                                                                                                  \n",
      " output (Dense)                 (None, 9)            585         ['hidden_2[0][0]']               \n",
      "                                                                                                  \n",
      "==================================================================================================\n",
      "Total params: 10,121\n",
      "Trainable params: 10,121\n",
      "Non-trainable params: 0\n",
      "__________________________________________________________________________________________________\n"
     ]
    }
   ],
   "source": [
    "t.net.model.summary()"
   ]
  },
  {
   "cell_type": "code",
   "execution_count": 1226,
   "id": "102f643a-3da5-44b1-be18-1dc10db98a2f",
   "metadata": {
    "tags": []
   },
   "outputs": [
    {
     "name": "stderr",
     "output_type": "stream",
     "text": [
      "100%|█████████████████████████████████████████████████████████████████| 10000/10000 [1:01:44<00:00,  2.70it/s]\n"
     ]
    }
   ],
   "source": [
    "with mlflow.start_run(run_name='test run 11 - q value output layer', description='') as run:\n",
    "    t.train(10000)"
   ]
  },
  {
   "cell_type": "code",
   "execution_count": null,
   "id": "34a5e6fd-d80a-4c10-a5d6-9f3959b749e0",
   "metadata": {},
   "outputs": [],
   "source": []
  },
  {
   "cell_type": "code",
   "execution_count": null,
   "id": "34097244-36f1-44f5-b15c-2b79240450a5",
   "metadata": {},
   "outputs": [],
   "source": []
  },
  {
   "cell_type": "code",
   "execution_count": 1316,
   "id": "e99a082d-3a85-4cfa-a0b7-99098510ca1c",
   "metadata": {},
   "outputs": [],
   "source": [
    "X = np.array([[1., 0., 2.],\n",
    "             [0., 1., 0.],\n",
    "             [0., 0., 3.]])\n",
    "Xt = tf.convert_to_tensor(X)\n",
    "\n",
    "W = np.array([[1., 0.],\n",
    "             [1., 1.],\n",
    "             [0., 1.]])\n",
    "Wt = tf.convert_to_tensor(W)"
   ]
  },
  {
   "cell_type": "code",
   "execution_count": 1324,
   "id": "85628677-ba5c-4663-bcc5-3191792a0f5d",
   "metadata": {},
   "outputs": [
    {
     "data": {
      "text/plain": [
       "array([[1., 2.],\n",
       "       [1., 1.],\n",
       "       [0., 3.]])"
      ]
     },
     "execution_count": 1324,
     "metadata": {},
     "output_type": "execute_result"
    }
   ],
   "source": [
    "Y_hat = np.dot(X, W)\n",
    "Y_hat"
   ]
  },
  {
   "cell_type": "code",
   "execution_count": 1325,
   "id": "6736ea1d-6476-400b-a1c4-0c7ab920a8fd",
   "metadata": {},
   "outputs": [],
   "source": [
    "Y = np.array([[2., 2.],\n",
    "             [1., 3.],\n",
    "             [0., 1.]])"
   ]
  },
  {
   "cell_type": "code",
   "execution_count": 1326,
   "id": "2cf14c52-0a0a-4581-9cab-95e7ec6c37a4",
   "metadata": {},
   "outputs": [
    {
     "data": {
      "text/plain": [
       "1.5"
      ]
     },
     "execution_count": 1326,
     "metadata": {},
     "output_type": "execute_result"
    }
   ],
   "source": [
    "mse = tf.keras.losses.MeanSquaredError()\n",
    "mse(Y, Y_hat).numpy()"
   ]
  },
  {
   "cell_type": "code",
   "execution_count": 1327,
   "id": "8d48b13b-60cc-48ac-a4bd-c6c520b54686",
   "metadata": {},
   "outputs": [
    {
     "data": {
      "text/plain": [
       "array([[-2.,  8.],\n",
       "       [-0., -4.],\n",
       "       [-0., 12.]])"
      ]
     },
     "execution_count": 1327,
     "metadata": {},
     "output_type": "execute_result"
    }
   ],
   "source": [
    "np.dot(X, Y-Y_hat) * -2"
   ]
  },
  {
   "cell_type": "code",
   "execution_count": 1282,
   "id": "e75ab872-8ef1-4de9-a710-d0f5fafa4bcf",
   "metadata": {},
   "outputs": [],
   "source": [
    "with tf.GradientTape(persistent=True) as g:\n",
    "    g.watch([Xt, Wt])\n",
    "    Yh = Xt @ Wt\n",
    "    L = mse(Y, Yh)"
   ]
  },
  {
   "cell_type": "code",
   "execution_count": 1286,
   "id": "e956813e-0699-4003-90a4-e5c9a279841e",
   "metadata": {},
   "outputs": [
    {
     "data": {
      "text/plain": [
       "[<tf.Tensor: shape=(3, 2), dtype=float64, numpy=\n",
       " array([[-0.33333333,  0.        ],\n",
       "        [ 0.33333333, -0.33333333],\n",
       "        [-1.66666667,  2.        ]])>,\n",
       " <tf.Tensor: shape=(3, 3), dtype=float64, numpy=\n",
       " array([[-0.33333333, -0.33333333,  0.        ],\n",
       "        [ 0.33333333,  0.        , -0.33333333],\n",
       "        [-0.33333333,  0.33333333,  0.66666667]])>]"
      ]
     },
     "execution_count": 1286,
     "metadata": {},
     "output_type": "execute_result"
    }
   ],
   "source": [
    "g.gradient(L, [Wt, Xt])"
   ]
  },
  {
   "cell_type": "code",
   "execution_count": null,
   "id": "081a3ea8-1f8f-4746-b471-adcb609265ca",
   "metadata": {},
   "outputs": [],
   "source": []
  },
  {
   "cell_type": "code",
   "execution_count": 1285,
   "id": "8d92e2d9-0a20-48d2-b738-3b258a3ba589",
   "metadata": {},
   "outputs": [
    {
     "data": {
      "text/plain": [
       "<tf.Tensor: shape=(), dtype=float64, numpy=1.3333333333333333>"
      ]
     },
     "execution_count": 1285,
     "metadata": {},
     "output_type": "execute_result"
    }
   ],
   "source": [
    "L"
   ]
  },
  {
   "cell_type": "code",
   "execution_count": null,
   "id": "cd006bf2-af89-46f7-827a-53266d0e6633",
   "metadata": {},
   "outputs": [],
   "source": []
  },
  {
   "cell_type": "code",
   "execution_count": 1299,
   "id": "bac78512-3986-400d-874a-540aa558ee47",
   "metadata": {},
   "outputs": [
    {
     "data": {
      "text/plain": [
       "array([[-0.33333333, -0.        ],\n",
       "       [ 0.33333333, -0.33333333],\n",
       "       [-1.66666667,  2.        ]])"
      ]
     },
     "execution_count": 1299,
     "metadata": {},
     "output_type": "execute_result"
    }
   ],
   "source": [
    "np.dot(X.T, (Y-Y_hat)) * -2 / 6"
   ]
  },
  {
   "cell_type": "code",
   "execution_count": 1291,
   "id": "4486d788-8ffc-47ac-ba13-3daf50b451d8",
   "metadata": {},
   "outputs": [
    {
     "data": {
      "text/plain": [
       "array([[-0.33333333, -0.33333333,  0.        ],\n",
       "       [ 0.33333333,  0.        , -0.33333333],\n",
       "       [-0.33333333,  0.33333333,  0.66666667]])"
      ]
     },
     "execution_count": 1291,
     "metadata": {},
     "output_type": "execute_result"
    }
   ],
   "source": [
    "np.dot(Y_hat-Y, W.T) * 2 / 6"
   ]
  },
  {
   "cell_type": "code",
   "execution_count": 1303,
   "id": "8e3d3993-77e9-4893-b2da-90cd992c826f",
   "metadata": {},
   "outputs": [
    {
     "data": {
      "text/plain": [
       "array([[-1.        ,  1.33333333],\n",
       "       [ 0.33333333, -0.33333333],\n",
       "       [-1.        ,  2.        ]])"
      ]
     },
     "execution_count": 1303,
     "metadata": {},
     "output_type": "execute_result"
    }
   ],
   "source": [
    "np.dot(X, (Y-Y_hat)) * -2 / 6  # ---> Wrong"
   ]
  },
  {
   "cell_type": "code",
   "execution_count": null,
   "id": "895c62b5-fccd-47e8-9a87-12e68b4f8878",
   "metadata": {},
   "outputs": [],
   "source": []
  },
  {
   "cell_type": "code",
   "execution_count": null,
   "id": "9da42965-5ced-41df-8869-c0598122a6fe",
   "metadata": {},
   "outputs": [],
   "source": []
  },
  {
   "cell_type": "code",
   "execution_count": 737,
   "id": "045cdc00-a56e-49e3-851f-05e0d01ed07b",
   "metadata": {},
   "outputs": [
    {
     "data": {
      "text/plain": [
       "1.8333334"
      ]
     },
     "execution_count": 737,
     "metadata": {},
     "output_type": "execute_result"
    }
   ],
   "source": [
    "y_true = [[0., 3.], [0., 0.], [0., 1.]]\n",
    "y_pred = [[1., 0.], [1., 0.], [0., 1.]]\n",
    "# Using 'auto'/'sum_over_batch_size' reduction type.\n",
    "mse = tf.keras.losses.MeanSquaredError()\n",
    "mse(y_true, y_pred).numpy()"
   ]
  },
  {
   "cell_type": "code",
   "execution_count": 729,
   "id": "404836ea-4d1e-4338-9fea-23f7b69fd6bb",
   "metadata": {},
   "outputs": [],
   "source": [
    "y_true = [np.array([1, 6, 0, 2, 2]),\n",
    "            np.array([ 1.208865  , -0.27224046,  0.09784675,  1.5510192 ,  2.])]\n",
    "\n",
    "y_pred = [np.array([1, 6, 0, 2, 1]),\n",
    "            np.array([ 1.208865  , -0.27224046,  0.09784675,  1.5510192 ,  0.])]"
   ]
  },
  {
   "cell_type": "code",
   "execution_count": 738,
   "id": "4d0c7ea3-25f6-4f65-b624-b030f70e8bc5",
   "metadata": {},
   "outputs": [
    {
     "data": {
      "text/plain": [
       "8.297752"
      ]
     },
     "execution_count": 738,
     "metadata": {},
     "output_type": "execute_result"
    }
   ],
   "source": [
    "mse(ans, ans1).numpy()"
   ]
  },
  {
   "cell_type": "code",
   "execution_count": 736,
   "id": "1390fa88-0d46-4c1b-ba67-67002428ba40",
   "metadata": {},
   "outputs": [
    {
     "data": {
      "text/plain": [
       "array([10.84375  ,  5.7517548], dtype=float32)"
      ]
     },
     "execution_count": 736,
     "metadata": {},
     "output_type": "execute_result"
    }
   ],
   "source": [
    "mse(ans, ans1).numpy()"
   ]
  },
  {
   "cell_type": "code",
   "execution_count": 701,
   "id": "e85b3397-9e6c-4fb1-9a3a-39649292cd9b",
   "metadata": {},
   "outputs": [
    {
     "data": {
      "text/plain": [
       "[array([1, 6, 0, 2, 2]),\n",
       " array([ 1.208865  , -0.27224046,  0.09784675,  1.5510192 ,  0.68674856])]"
      ]
     },
     "execution_count": 701,
     "metadata": {},
     "output_type": "execute_result"
    }
   ],
   "source": [
    "y_pred"
   ]
  },
  {
   "cell_type": "code",
   "execution_count": 1173,
   "id": "b7228c48-075f-4c96-a9ae-11a5f6d5f7e9",
   "metadata": {},
   "outputs": [
    {
     "name": "stderr",
     "output_type": "stream",
     "text": [
      "100%|█████████████████████████████████████████████████████████████████████████| 50/50 [00:03<00:00, 14.80it/s]\n"
     ]
    }
   ],
   "source": [
    "t.train(50)"
   ]
  },
  {
   "cell_type": "code",
   "execution_count": 1174,
   "id": "d8594078-88aa-4424-93a1-915e42458105",
   "metadata": {},
   "outputs": [
    {
     "data": {
      "text/plain": [
       "[array([[ 1.,  0.,  0.,  1.,  0.,  0., -1.,  0.,  0.],\n",
       "        [ 0.,  0., -1.,  0.,  1.,  0.,  1.,  0., -1.],\n",
       "        [ 0., -1.,  0.,  0.,  1.,  0.,  1.,  1., -1.],\n",
       "        [ 0.,  0.,  0.,  1.,  0.,  0.,  0.,  0.,  0.],\n",
       "        [ 1.,  1., -1.,  0.,  1.,  0.,  0., -1.,  0.]]),\n",
       " array([4., 7., 0., 2., 6.]),\n",
       " array([-0.1, -1. , -1. , -0.1, -1. ]),\n",
       " array([[ 1.,  1.,  0.,  1., -1.,  0., -1.,  0.,  0.],\n",
       "        [-1.,  0., -1.,  0.,  1.,  0.,  1.,  1., -1.],\n",
       "        [-1., -1.,  0.,  1.,  1.,  0.,  1.,  1., -1.],\n",
       "        [ 0.,  0., -1.,  1.,  0.,  0.,  1.,  0.,  0.],\n",
       "        [ 1.,  1., -1.,  1.,  1.,  0., -1., -1.,  0.]]),\n",
       " array([0., 0., 0., 0., 0.])]"
      ]
     },
     "execution_count": 1174,
     "metadata": {},
     "output_type": "execute_result"
    }
   ],
   "source": [
    "board_samples = t.memory.sample_records(5)\n",
    "board_samples"
   ]
  },
  {
   "cell_type": "code",
   "execution_count": null,
   "id": "01c361a3-0da0-48ee-a449-0f50e607b3a1",
   "metadata": {},
   "outputs": [],
   "source": []
  },
  {
   "cell_type": "code",
   "execution_count": null,
   "id": "cea6e65d-5177-4fb1-a8aa-98dff900824b",
   "metadata": {},
   "outputs": [],
   "source": [
    "a"
   ]
  },
  {
   "cell_type": "code",
   "execution_count": 740,
   "id": "3b5a35ab-34fc-4558-a67f-0d61e89114fb",
   "metadata": {},
   "outputs": [
    {
     "name": "stdout",
     "output_type": "stream",
     "text": [
      "1/1 [==============================] - 0s 19ms/step\n"
     ]
    },
    {
     "data": {
      "text/plain": [
       "[array([3, 4, 1, 4, 5]),\n",
       " array([-0.14812343,  0.66704184,  0.0287344 , -0.09794629, -0.02111896],\n",
       "       dtype=float32)]"
      ]
     },
     "execution_count": 740,
     "metadata": {},
     "output_type": "execute_result"
    }
   ],
   "source": [
    "ans1 = t.net.model.predict([board_samples[0], board_samples[1]])\n",
    "ans1"
   ]
  },
  {
   "cell_type": "code",
   "execution_count": null,
   "id": "6f5055aa-6f9f-437e-8b00-e65d01d6aca2",
   "metadata": {},
   "outputs": [],
   "source": []
  },
  {
   "cell_type": "code",
   "execution_count": 1406,
   "id": "df02d2f3-99ca-45a1-9e13-b7f4174cea56",
   "metadata": {},
   "outputs": [],
   "source": [
    "g = TicTacToe()"
   ]
  },
  {
   "cell_type": "code",
   "execution_count": 1412,
   "id": "3f6afe37-a809-4d72-a8db-ae062deb68e9",
   "metadata": {},
   "outputs": [
    {
     "data": {
      "text/plain": [
       "(-1, 0)"
      ]
     },
     "execution_count": 1412,
     "metadata": {},
     "output_type": "execute_result"
    }
   ],
   "source": [
    "g.execute_action(6)\n"
   ]
  },
  {
   "cell_type": "code",
   "execution_count": 1413,
   "id": "77d83691-738f-45bd-843f-7151b529fae7",
   "metadata": {},
   "outputs": [
    {
     "name": "stdout",
     "output_type": "stream",
     "text": [
      "1 0.25119048\n",
      "X X X \n",
      "\n",
      "- O X \n",
      "\n",
      "O - O \n",
      "\n"
     ]
    }
   ],
   "source": [
    "m, q = t.agent.play(g.get_current_state())\n",
    "print(m, q)\n",
    "g.execute_action(m)\n",
    "g.print_board()"
   ]
  },
  {
   "cell_type": "code",
   "execution_count": 1348,
   "id": "f8e7b8a1-4428-4dfd-9105-6cbbe5d89534",
   "metadata": {},
   "outputs": [
    {
     "name": "stdout",
     "output_type": "stream",
     "text": [
      "- - - \n",
      "\n",
      "- - - \n",
      "\n",
      "- - - \n",
      "\n"
     ]
    }
   ],
   "source": [
    "g.print_board()"
   ]
  },
  {
   "cell_type": "code",
   "execution_count": 1161,
   "id": "358e8d32-9783-4dc2-9487-36fb35eaac1a",
   "metadata": {},
   "outputs": [],
   "source": [
    "s = play_games_against_random(t.agent, 100)"
   ]
  },
  {
   "cell_type": "code",
   "execution_count": 1162,
   "id": "4b9fb415-fd02-4ca5-a418-08d5b5697f05",
   "metadata": {},
   "outputs": [
    {
     "data": {
      "text/plain": [
       "{'win': 0.91, 'lost': 0.06, 'draw': 0.03}"
      ]
     },
     "execution_count": 1162,
     "metadata": {},
     "output_type": "execute_result"
    }
   ],
   "source": [
    "s"
   ]
  },
  {
   "cell_type": "code",
   "execution_count": 1169,
   "id": "3a4a7bed-d9ec-4fbd-ab3f-5c7fe86d78cc",
   "metadata": {},
   "outputs": [
    {
     "data": {
      "text/plain": [
       "[array([[ 1., -1.,  1., -1.,  0., -1.,  1.,  1., -1.]]),\n",
       " array([4.]),\n",
       " array([0.5]),\n",
       " array([[-1., -1., -1., -1., -1., -1., -1., -1., -1.]]),\n",
       " array([1.])]"
      ]
     },
     "execution_count": 1169,
     "metadata": {},
     "output_type": "execute_result"
    }
   ],
   "source": [
    "board_samples"
   ]
  },
  {
   "cell_type": "code",
   "execution_count": null,
   "id": "95130182-239a-4fe3-8d8d-f03c7aeba602",
   "metadata": {},
   "outputs": [],
   "source": []
  },
  {
   "cell_type": "code",
   "execution_count": null,
   "id": "df50bee5-4d08-4228-890e-165fc93721ef",
   "metadata": {},
   "outputs": [],
   "source": []
  },
  {
   "cell_type": "markdown",
   "id": "3c2d2bb5-3e1a-4816-a0c9-821be464f932",
   "metadata": {
    "tags": []
   },
   "source": [
    "### Test gradient updates"
   ]
  },
  {
   "cell_type": "code",
   "execution_count": null,
   "id": "4168b364-0a30-42da-94a9-1ac212511f42",
   "metadata": {},
   "outputs": [],
   "source": []
  },
  {
   "cell_type": "code",
   "execution_count": null,
   "id": "4a6a6a41-f8c4-4501-9dab-03bc90526e89",
   "metadata": {},
   "outputs": [],
   "source": []
  },
  {
   "cell_type": "code",
   "execution_count": null,
   "id": "9486d399-83fa-477f-9d9c-31a754205d79",
   "metadata": {},
   "outputs": [],
   "source": []
  },
  {
   "cell_type": "code",
   "execution_count": null,
   "id": "2ad32a96-9839-4801-9e2b-3fdbfbd10baa",
   "metadata": {},
   "outputs": [],
   "source": []
  },
  {
   "cell_type": "code",
   "execution_count": null,
   "id": "fab8a3a6-3c20-4c50-a3c8-c9829e3c6aaf",
   "metadata": {},
   "outputs": [],
   "source": []
  }
 ],
 "metadata": {
  "kernelspec": {
   "display_name": "Python 3 (ipykernel)",
   "language": "python",
   "name": "python3"
  },
  "language_info": {
   "codemirror_mode": {
    "name": "ipython",
    "version": 3
   },
   "file_extension": ".py",
   "mimetype": "text/x-python",
   "name": "python",
   "nbconvert_exporter": "python",
   "pygments_lexer": "ipython3",
   "version": "3.9.10"
  }
 },
 "nbformat": 4,
 "nbformat_minor": 5
}
