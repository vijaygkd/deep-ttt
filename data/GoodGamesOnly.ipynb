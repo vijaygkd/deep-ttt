{
 "cells": [
  {
   "cell_type": "code",
   "execution_count": 66,
   "metadata": {},
   "outputs": [],
   "source": [
    "import numpy as np"
   ]
  },
  {
   "cell_type": "code",
   "execution_count": 73,
   "metadata": {},
   "outputs": [
    {
     "name": "stdout",
     "output_type": "stream",
     "text": [
      "Length of raw data: 255168\n"
     ]
    }
   ],
   "source": [
    "raw_data_file = \"raw_data.csv\"\n",
    "raw_data = np.genfromtxt(raw_data_file, delimiter=',')\n",
    "raw_data.astype(int)\n",
    "print(\"Length of raw data:\", len(raw_data))"
   ]
  },
  {
   "cell_type": "code",
   "execution_count": 74,
   "metadata": {},
   "outputs": [],
   "source": [
    "def lenOfGame(game):\n",
    "    indices = np.where(game[:9] == 0)[0]\n",
    "    if len(indices) == 0:\n",
    "        return 9\n",
    "    else:\n",
    "        return indices[0]"
   ]
  },
  {
   "cell_type": "markdown",
   "metadata": {
    "slideshow": {
     "slide_type": "notes"
    }
   },
   "source": [
    "The simulated data in raw_data.csv contains lot of games which are very \"dumb\" and would never be played by human players.\n",
    "To weed out such games from our dataset, we pick the shortest game for a given starting sequence."
   ]
  },
  {
   "cell_type": "code",
   "execution_count": 76,
   "metadata": {},
   "outputs": [
    {
     "name": "stdout",
     "output_type": "stream",
     "text": [
      "Done\n",
      "15119\n"
     ]
    }
   ],
   "source": [
    "good_games = []\n",
    "current_game_sequence = raw_data[0][:5]\n",
    "best_game = raw_data[0]\n",
    "\n",
    "for game in raw_data:\n",
    "    if np.array_equal(current_game_sequence, game[:5]):\n",
    "        # compare game and best_game\n",
    "        if lenOfGame(game) < lenOfGame(best_game):\n",
    "            best_game = game\n",
    "    else:\n",
    "        # save best game to good games\n",
    "        good_games.append(best_game)\n",
    "        current_game_sequence = game[:5]\n",
    "        best_game = game\n",
    "\n",
    "print(\"Done\")\n",
    "print(len(good_games))"
   ]
  },
  {
   "cell_type": "code",
   "execution_count": 87,
   "metadata": {},
   "outputs": [],
   "source": [
    "data = np.array(good_games, dtype=int)\n",
    "file_path = \"good_games_data.csv\"\n",
    "np.savetxt(file_path, good_games, delimiter=',', fmt=\"%u\")\n"
   ]
  },
  {
   "cell_type": "code",
   "execution_count": null,
   "metadata": {},
   "outputs": [],
   "source": []
  }
 ],
 "metadata": {
  "kernelspec": {
   "display_name": "Python 3",
   "language": "python",
   "name": "python3"
  },
  "language_info": {
   "codemirror_mode": {
    "name": "ipython",
    "version": 3
   },
   "file_extension": ".py",
   "mimetype": "text/x-python",
   "name": "python",
   "nbconvert_exporter": "python",
   "pygments_lexer": "ipython3",
   "version": "3.6.4"
  }
 },
 "nbformat": 4,
 "nbformat_minor": 2
}
