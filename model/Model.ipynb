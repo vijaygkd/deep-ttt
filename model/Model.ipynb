{
 "cells": [
  {
   "cell_type": "markdown",
   "metadata": {},
   "source": [
    "## 1. Data import"
   ]
  },
  {
   "cell_type": "markdown",
   "metadata": {},
   "source": [
    "Import the simulated data and convert in into 3x3x2 ndarray. 3x3 is the tic-tac-toe grid dimensions. 2 are the values of X and O. 1-0 represents X, 0-1 represents O, 0-0 represents empty cell.\n",
    "\n",
    "Input data representation for the model is:\n",
    "* Input: current state of 3x3x2 (board)\n",
    "* Output(Int 1-9) : Position of next move to make"
   ]
  },
  {
   "cell_type": "code",
   "execution_count": 177,
   "metadata": {},
   "outputs": [],
   "source": [
    "import numpy as np"
   ]
  },
  {
   "cell_type": "code",
   "execution_count": 178,
   "metadata": {},
   "outputs": [
    {
     "name": "stdout",
     "output_type": "stream",
     "text": [
      "Length of raw data: 15119\n",
      "Sample row: [1. 2. 3. 4. 5. 6. 7. 0. 0. 1.]\n"
     ]
    }
   ],
   "source": [
    "input_file = 'good_games_data.csv'\n",
    "raw_data = np.genfromtxt(input_file, delimiter=',')\n",
    "print(\"Length of raw data:\", len(raw_data))\n",
    "print(\"Sample row:\", raw_data[0])"
   ]
  },
  {
   "cell_type": "code",
   "execution_count": 179,
   "metadata": {},
   "outputs": [],
   "source": [
    "def playNextMove(board, move, player):\n",
    "    playerIndex = player - 1\n",
    "    moveIndex = move - 1\n",
    "    \n",
    "    r = moveIndex // 3\n",
    "    c = moveIndex % 3\n",
    "    board[r, c, playerIndex] = 1"
   ]
  },
  {
   "cell_type": "code",
   "execution_count": 180,
   "metadata": {},
   "outputs": [],
   "source": [
    "def convertRawToModelInput(raw_data):\n",
    "    X = []\n",
    "    Y = []\n",
    "    for raw in raw_data:\n",
    "        board = np.zeros((3,3,2))\n",
    "        player = 0\n",
    "        for i in range(9):\n",
    "            if raw[i] == 0:\n",
    "                break #game already over\n",
    "\n",
    "            if raw[-1] == 1:\n",
    "                if i%2 == 0:\n",
    "                    player = 1\n",
    "                    X.append(board.copy())\n",
    "                    Y.append(raw[i])\n",
    "                else:\n",
    "                    player = 2\n",
    "\n",
    "            else:           \n",
    "                if i%2 == 1:\n",
    "                    player = 2\n",
    "                    X.append(board.copy())\n",
    "                    Y.append(raw[i])\n",
    "                else:\n",
    "                    player = 1\n",
    "\n",
    "            playNextMove(board, int(raw[i]), player)\n",
    "\n",
    "    return np.array(X), np.array(Y)\n"
   ]
  },
  {
   "cell_type": "code",
   "execution_count": 181,
   "metadata": {},
   "outputs": [],
   "source": [
    "def shuffle_in_unison(a, b):\n",
    "     n_elem = a.shape[0]\n",
    "     indeces = np.random.choice(n_elem, size=n_elem, replace=False)\n",
    "     return a[indeces], b[indeces]"
   ]
  },
  {
   "cell_type": "code",
   "execution_count": 182,
   "metadata": {},
   "outputs": [],
   "source": [
    "def convertToOneHot(Y, n_y):\n",
    "    Y = Y.astype(int)\n",
    "    Y_index = Y - 1  # convert position to index\n",
    "    m = len(Y)\n",
    "    Y_oh = np.zeros((m, n_y))\n",
    "    Y_oh[np.arange(m), Y_index] = 1\n",
    "    return Y_oh"
   ]
  },
  {
   "cell_type": "code",
   "execution_count": 183,
   "metadata": {},
   "outputs": [
    {
     "name": "stdout",
     "output_type": "stream",
     "text": [
      "Size of input data: 53792\n"
     ]
    }
   ],
   "source": [
    "X, Y = convertRawToModelInput(raw_data)\n",
    "X,Y = shuffle_in_unison(X, Y)\n",
    "Y = convertToOneHot(Y, 9)\n",
    "print(\"Size of input data:\", len(Y))"
   ]
  },
  {
   "cell_type": "code",
   "execution_count": 184,
   "metadata": {},
   "outputs": [
    {
     "name": "stdout",
     "output_type": "stream",
     "text": [
      "Shape of X_train (50000, 3, 3, 2)\n",
      "Shape of Y_train (50000, 9)\n",
      "Shape of X_test (3792, 3, 3, 2)\n",
      "Shape of Y_test (3792, 9)\n"
     ]
    }
   ],
   "source": [
    "m = 50000\n",
    "X_train = X[:m]\n",
    "Y_train = Y[:m]\n",
    "X_test = X[m:]\n",
    "Y_test = Y[m:]\n",
    "\n",
    "print(\"Shape of X_train\", X_train.shape)\n",
    "print(\"Shape of Y_train\", Y_train.shape)\n",
    "print(\"Shape of X_test\", X_test.shape)\n",
    "print(\"Shape of Y_test\", Y_test.shape)"
   ]
  },
  {
   "cell_type": "markdown",
   "metadata": {},
   "source": [
    "## 2. Model\n",
    "\n",
    "Return instance of the model"
   ]
  },
  {
   "cell_type": "code",
   "execution_count": 205,
   "metadata": {},
   "outputs": [],
   "source": [
    "from keras.models import Model\n",
    "from keras.layers import Input, Dense, Conv2D, Flatten\n",
    "from keras.optimizers import Adam"
   ]
  },
  {
   "cell_type": "code",
   "execution_count": 211,
   "metadata": {},
   "outputs": [],
   "source": [
    "def model():\n",
    "    \n",
    "    X_train = Input(shape=(3,3,2,))\n",
    "    X = Conv2D(128, (3,3), input_shape=(3, 3, 2), activation=\"relu\")(X_train)\n",
    "    X = Flatten()(X)\n",
    "    X = Dense(128, activation=\"relu\")(X)\n",
    "    X = Dense(64, activation=\"relu\")(X)\n",
    "    X = Dense(32, activation=\"relu\")(X)\n",
    "    Y = Dense(9, activation=\"softmax\")(X)\n",
    "    \n",
    "    model = Model(inputs=X_train, outputs= Y)\n",
    "    return model"
   ]
  },
  {
   "cell_type": "code",
   "execution_count": 212,
   "metadata": {},
   "outputs": [],
   "source": [
    "m = model()\n",
    "opt = Adam()\n",
    "m.compile(opt, loss=\"categorical_crossentropy\", metrics=['accuracy'])"
   ]
  },
  {
   "cell_type": "code",
   "execution_count": 213,
   "metadata": {},
   "outputs": [
    {
     "name": "stdout",
     "output_type": "stream",
     "text": [
      "_________________________________________________________________\n",
      "Layer (type)                 Output Shape              Param #   \n",
      "=================================================================\n",
      "input_10 (InputLayer)        (None, 3, 3, 2)           0         \n",
      "_________________________________________________________________\n",
      "conv2d_5 (Conv2D)            (None, 1, 1, 128)         2432      \n",
      "_________________________________________________________________\n",
      "flatten_2 (Flatten)          (None, 128)               0         \n",
      "_________________________________________________________________\n",
      "dense_25 (Dense)             (None, 128)               16512     \n",
      "_________________________________________________________________\n",
      "dense_26 (Dense)             (None, 64)                8256      \n",
      "_________________________________________________________________\n",
      "dense_27 (Dense)             (None, 32)                2080      \n",
      "_________________________________________________________________\n",
      "dense_28 (Dense)             (None, 9)                 297       \n",
      "=================================================================\n",
      "Total params: 29,577\n",
      "Trainable params: 29,577\n",
      "Non-trainable params: 0\n",
      "_________________________________________________________________\n"
     ]
    }
   ],
   "source": [
    "m.summary()"
   ]
  },
  {
   "cell_type": "code",
   "execution_count": 214,
   "metadata": {},
   "outputs": [
    {
     "name": "stdout",
     "output_type": "stream",
     "text": [
      "Epoch 1/10\n",
      "50000/50000 [==============================] - 5s 99us/step - loss: 1.6291 - acc: 0.3595\n",
      "Epoch 2/10\n",
      "50000/50000 [==============================] - 4s 87us/step - loss: 1.4526 - acc: 0.4162\n",
      "Epoch 3/10\n",
      "50000/50000 [==============================] - 4s 88us/step - loss: 1.4174 - acc: 0.4250\n",
      "Epoch 4/10\n",
      "50000/50000 [==============================] - 4s 89us/step - loss: 1.3935 - acc: 0.4277\n",
      "Epoch 5/10\n",
      "50000/50000 [==============================] - 4s 87us/step - loss: 1.3752 - acc: 0.4323\n",
      "Epoch 6/10\n",
      "50000/50000 [==============================] - 5s 92us/step - loss: 1.3650 - acc: 0.4292\n",
      "Epoch 7/10\n",
      "50000/50000 [==============================] - 4s 88us/step - loss: 1.3552 - acc: 0.4302\n",
      "Epoch 8/10\n",
      "50000/50000 [==============================] - 4s 89us/step - loss: 1.3510 - acc: 0.4315\n",
      "Epoch 9/10\n",
      "50000/50000 [==============================] - 5s 90us/step - loss: 1.3449 - acc: 0.4314\n",
      "Epoch 10/10\n",
      "50000/50000 [==============================] - 5s 92us/step - loss: 1.3424 - acc: 0.4316\n"
     ]
    },
    {
     "data": {
      "text/plain": [
       "<keras.callbacks.History at 0x1823c1e668>"
      ]
     },
     "execution_count": 214,
     "metadata": {},
     "output_type": "execute_result"
    }
   ],
   "source": [
    "m.fit(X_train, Y_train, epochs=10, batch_size=32)"
   ]
  },
  {
   "cell_type": "code",
   "execution_count": 215,
   "metadata": {},
   "outputs": [
    {
     "name": "stdout",
     "output_type": "stream",
     "text": [
      "3792/3792 [==============================] - 0s 59us/step\n"
     ]
    },
    {
     "data": {
      "text/plain": [
       "[1.3555394476476097, 0.4185126582278481]"
      ]
     },
     "execution_count": 215,
     "metadata": {},
     "output_type": "execute_result"
    }
   ],
   "source": [
    "m.evaluate(X_test, Y_test, batch_size=32)"
   ]
  },
  {
   "cell_type": "code",
   "execution_count": null,
   "metadata": {},
   "outputs": [],
   "source": []
  }
 ],
 "metadata": {
  "kernelspec": {
   "display_name": "Python 3",
   "language": "python",
   "name": "python3"
  },
  "language_info": {
   "codemirror_mode": {
    "name": "ipython",
    "version": 3
   },
   "file_extension": ".py",
   "mimetype": "text/x-python",
   "name": "python",
   "nbconvert_exporter": "python",
   "pygments_lexer": "ipython3",
   "version": "3.6.4"
  }
 },
 "nbformat": 4,
 "nbformat_minor": 2
}
