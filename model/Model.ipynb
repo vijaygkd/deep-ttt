{
 "cells": [
  {
   "cell_type": "markdown",
   "metadata": {},
   "source": [
    "## 1. Data import"
   ]
  },
  {
   "cell_type": "markdown",
   "metadata": {},
   "source": [
    "Import the simulated data and convert in into 3x3x2 ndarray. 3x3 is the tic-tac-toe grid dimensions. 2 are the values of X and O. 1-0 represents X, 0-1 represents O, 0-0 represents empty cell."
   ]
  },
  {
   "cell_type": "code",
   "execution_count": 1,
   "metadata": {},
   "outputs": [],
   "source": [
    "import numpy as np\n",
    "from keras.models import Model\n",
    "from keras.layers import Input, Dense, Conv2D"
   ]
  },
  {
   "cell_type": "code",
   "execution_count": 73,
   "metadata": {},
   "outputs": [
    {
     "name": "stdout",
     "output_type": "stream",
     "text": [
      "Length of raw data: 15119\n",
      "Sample row: [1. 2. 3. 4. 5. 6. 7. 0. 0. 1.]\n"
     ]
    }
   ],
   "source": [
    "input_file = 'good_games_data.csv'\n",
    "raw_data = np.genfromtxt(input_file, delimiter=',')\n",
    "print(\"Length of raw data:\", len(raw_data))\n",
    "print(\"Sample row:\", raw_data[0])"
   ]
  },
  {
   "cell_type": "code",
   "execution_count": 78,
   "metadata": {},
   "outputs": [],
   "source": [
    "def playNextMove(board, move, player):\n",
    "    playerIndex = player - 1\n",
    "    moveIndex = move - 1\n",
    "    \n",
    "    r = moveIndex // 3\n",
    "    c = moveIndex % 3\n",
    "    board[r, c, playerIndex] = 1"
   ]
  },
  {
   "cell_type": "code",
   "execution_count": 119,
   "metadata": {},
   "outputs": [
    {
     "name": "stdout",
     "output_type": "stream",
     "text": [
      "Length of input data: 53792\n"
     ]
    }
   ],
   "source": [
    "X = []\n",
    "Y = []\n",
    "for raw in raw_data:\n",
    "    board = np.zeros((3,3,2))\n",
    "    player = 0\n",
    "    for i in range(9):\n",
    "        if raw[i] == 0:\n",
    "            break #game already over\n",
    "        \n",
    "        if raw[-1] == 1:\n",
    "            if i%2 == 0:\n",
    "                player = 1\n",
    "                X.append(board.copy())\n",
    "                Y.append(raw[i])\n",
    "            else:\n",
    "                player = 2\n",
    "            \n",
    "        else:           \n",
    "            if i%2 == 1:\n",
    "                player = 2\n",
    "                X.append(board.copy())\n",
    "                Y.append(raw[i])\n",
    "            else:\n",
    "                player = 1\n",
    "        \n",
    "        playNextMove(board, int(raw[i]), player)\n",
    "\n",
    "m = len(Y)\n",
    "print(\"Length of input data:\", m)"
   ]
  },
  {
   "cell_type": "code",
   "execution_count": null,
   "metadata": {},
   "outputs": [],
   "source": []
  }
 ],
 "metadata": {
  "kernelspec": {
   "display_name": "Python 3",
   "language": "python",
   "name": "python3"
  },
  "language_info": {
   "codemirror_mode": {
    "name": "ipython",
    "version": 3
   },
   "file_extension": ".py",
   "mimetype": "text/x-python",
   "name": "python",
   "nbconvert_exporter": "python",
   "pygments_lexer": "ipython3",
   "version": "3.6.4"
  }
 },
 "nbformat": 4,
 "nbformat_minor": 2
}
